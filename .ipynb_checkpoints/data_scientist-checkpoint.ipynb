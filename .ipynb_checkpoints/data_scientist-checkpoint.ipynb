{
 "cells": [
  {
   "cell_type": "code",
   "execution_count": 1,
   "metadata": {},
   "outputs": [],
   "source": [
    "import pandas as pd\n",
    "import plotly.offline as pyo\n",
    "import plotly.graph_objects as go\n",
    "pd.options.plotting.backend = 'plotly'\n",
    "import string\n",
    "import nltk\n",
    "from nltk.tokenize import sent_tokenize, word_tokenize\n",
    "import collections"
   ]
  },
  {
   "cell_type": "code",
   "execution_count": 2,
   "metadata": {},
   "outputs": [
    {
     "data": {
      "text/html": [
       "<div>\n",
       "<style scoped>\n",
       "    .dataframe tbody tr th:only-of-type {\n",
       "        vertical-align: middle;\n",
       "    }\n",
       "\n",
       "    .dataframe tbody tr th {\n",
       "        vertical-align: top;\n",
       "    }\n",
       "\n",
       "    .dataframe thead th {\n",
       "        text-align: right;\n",
       "    }\n",
       "</style>\n",
       "<table border=\"1\" class=\"dataframe\">\n",
       "  <thead>\n",
       "    <tr style=\"text-align: right;\">\n",
       "      <th></th>\n",
       "      <th>jobId</th>\n",
       "      <th>employerId</th>\n",
       "      <th>employerName</th>\n",
       "      <th>employerProfileId</th>\n",
       "      <th>employerProfileName</th>\n",
       "      <th>jobTitle</th>\n",
       "      <th>locationName</th>\n",
       "      <th>minimumSalary</th>\n",
       "      <th>maximumSalary</th>\n",
       "      <th>currency</th>\n",
       "      <th>expirationDate</th>\n",
       "      <th>date</th>\n",
       "      <th>jobDescription</th>\n",
       "      <th>applications</th>\n",
       "      <th>jobUrl</th>\n",
       "      <th>fullDescription</th>\n",
       "    </tr>\n",
       "  </thead>\n",
       "  <tbody>\n",
       "    <tr>\n",
       "      <th>0</th>\n",
       "      <td>41564639</td>\n",
       "      <td>626228</td>\n",
       "      <td>Aggregator Network</td>\n",
       "      <td>NaN</td>\n",
       "      <td>NaN</td>\n",
       "      <td>Data Science &amp; Machine Learning Research Engineer</td>\n",
       "      <td>Gloucester</td>\n",
       "      <td>NaN</td>\n",
       "      <td>NaN</td>\n",
       "      <td>NaN</td>\n",
       "      <td>24/01/2021</td>\n",
       "      <td>13/12/2020</td>\n",
       "      <td>What is Raytheon's Strategic Research Group (S...</td>\n",
       "      <td>5</td>\n",
       "      <td>https://www.reed.co.uk/jobs/data-science-machi...</td>\n",
       "      <td>&lt;strong&gt;What is Raytheon's Strategic Research ...</td>\n",
       "    </tr>\n",
       "    <tr>\n",
       "      <th>1</th>\n",
       "      <td>41665242</td>\n",
       "      <td>610656</td>\n",
       "      <td>The Flowminder Foundation</td>\n",
       "      <td>NaN</td>\n",
       "      <td>NaN</td>\n",
       "      <td>Data Scientist / Mid-Level / Senior Data Scien...</td>\n",
       "      <td>Southampton</td>\n",
       "      <td>56508.0</td>\n",
       "      <td>56508.0</td>\n",
       "      <td>GBP</td>\n",
       "      <td>15/02/2021</td>\n",
       "      <td>04/01/2021</td>\n",
       "      <td>Data Scientist / Mid-Level / Senior Data Scien...</td>\n",
       "      <td>5</td>\n",
       "      <td>https://www.reed.co.uk/jobs/data-scientist-mid...</td>\n",
       "      <td>&lt;strong&gt;Data Scientist / Mid-Level / Senior Da...</td>\n",
       "    </tr>\n",
       "    <tr>\n",
       "      <th>2</th>\n",
       "      <td>41725106</td>\n",
       "      <td>331522</td>\n",
       "      <td>Harnham</td>\n",
       "      <td>NaN</td>\n",
       "      <td>NaN</td>\n",
       "      <td>Senior Data Scientist - 5 Months FTC</td>\n",
       "      <td>London</td>\n",
       "      <td>55000.0</td>\n",
       "      <td>60000.0</td>\n",
       "      <td>GBP</td>\n",
       "      <td>22/02/2021</td>\n",
       "      <td>11/01/2021</td>\n",
       "      <td>SENIOR DATA SCIENTIST &amp;#163;60,000 &amp;#43; BENE...</td>\n",
       "      <td>1</td>\n",
       "      <td>https://www.reed.co.uk/jobs/senior-data-scient...</td>\n",
       "      <td>&lt;p&gt;&lt;strong&gt;SENIOR DATA SCIENTIST&lt;/strong&gt;&lt;/p&gt;...</td>\n",
       "    </tr>\n",
       "    <tr>\n",
       "      <th>3</th>\n",
       "      <td>41760986</td>\n",
       "      <td>391559</td>\n",
       "      <td>Reqiva Ltd</td>\n",
       "      <td>NaN</td>\n",
       "      <td>NaN</td>\n",
       "      <td>Data Scientist Ordnance Survey Data Contract</td>\n",
       "      <td>Reading</td>\n",
       "      <td>400.0</td>\n",
       "      <td>400.0</td>\n",
       "      <td>GBP</td>\n",
       "      <td>13/02/2021</td>\n",
       "      <td>15/01/2021</td>\n",
       "      <td>* Ordnance Survey Data Experience Required* Py...</td>\n",
       "      <td>3</td>\n",
       "      <td>https://www.reed.co.uk/jobs/data-scientist-ord...</td>\n",
       "      <td>* Ordnance Survey Data Experience Required&lt;br ...</td>\n",
       "    </tr>\n",
       "    <tr>\n",
       "      <th>4</th>\n",
       "      <td>41760987</td>\n",
       "      <td>391559</td>\n",
       "      <td>Reqiva Ltd</td>\n",
       "      <td>NaN</td>\n",
       "      <td>NaN</td>\n",
       "      <td>Data Scientist Ordnance Survey Data Contract</td>\n",
       "      <td>Kent</td>\n",
       "      <td>400.0</td>\n",
       "      <td>400.0</td>\n",
       "      <td>GBP</td>\n",
       "      <td>13/02/2021</td>\n",
       "      <td>15/01/2021</td>\n",
       "      <td>* Ordnance Survey Data Experience Required* Py...</td>\n",
       "      <td>0</td>\n",
       "      <td>https://www.reed.co.uk/jobs/data-scientist-ord...</td>\n",
       "      <td>* Ordnance Survey Data Experience Required&lt;br ...</td>\n",
       "    </tr>\n",
       "  </tbody>\n",
       "</table>\n",
       "</div>"
      ],
      "text/plain": [
       "      jobId  employerId               employerName  employerProfileId  \\\n",
       "0  41564639      626228         Aggregator Network                NaN   \n",
       "1  41665242      610656  The Flowminder Foundation                NaN   \n",
       "2  41725106      331522                    Harnham                NaN   \n",
       "3  41760986      391559                 Reqiva Ltd                NaN   \n",
       "4  41760987      391559                 Reqiva Ltd                NaN   \n",
       "\n",
       "   employerProfileName                                           jobTitle  \\\n",
       "0                  NaN  Data Science & Machine Learning Research Engineer   \n",
       "1                  NaN  Data Scientist / Mid-Level / Senior Data Scien...   \n",
       "2                  NaN               Senior Data Scientist - 5 Months FTC   \n",
       "3                  NaN       Data Scientist Ordnance Survey Data Contract   \n",
       "4                  NaN       Data Scientist Ordnance Survey Data Contract   \n",
       "\n",
       "  locationName  minimumSalary  maximumSalary currency expirationDate  \\\n",
       "0   Gloucester            NaN            NaN      NaN     24/01/2021   \n",
       "1  Southampton        56508.0        56508.0      GBP     15/02/2021   \n",
       "2       London        55000.0        60000.0      GBP     22/02/2021   \n",
       "3      Reading          400.0          400.0      GBP     13/02/2021   \n",
       "4         Kent          400.0          400.0      GBP     13/02/2021   \n",
       "\n",
       "         date                                     jobDescription  \\\n",
       "0  13/12/2020  What is Raytheon's Strategic Research Group (S...   \n",
       "1  04/01/2021  Data Scientist / Mid-Level / Senior Data Scien...   \n",
       "2  11/01/2021   SENIOR DATA SCIENTIST &#163;60,000 &#43; BENE...   \n",
       "3  15/01/2021  * Ordnance Survey Data Experience Required* Py...   \n",
       "4  15/01/2021  * Ordnance Survey Data Experience Required* Py...   \n",
       "\n",
       "   applications                                             jobUrl  \\\n",
       "0             5  https://www.reed.co.uk/jobs/data-science-machi...   \n",
       "1             5  https://www.reed.co.uk/jobs/data-scientist-mid...   \n",
       "2             1  https://www.reed.co.uk/jobs/senior-data-scient...   \n",
       "3             3  https://www.reed.co.uk/jobs/data-scientist-ord...   \n",
       "4             0  https://www.reed.co.uk/jobs/data-scientist-ord...   \n",
       "\n",
       "                                     fullDescription  \n",
       "0  <strong>What is Raytheon's Strategic Research ...  \n",
       "1  <strong>Data Scientist / Mid-Level / Senior Da...  \n",
       "2   <p><strong>SENIOR DATA SCIENTIST</strong></p>...  \n",
       "3  * Ordnance Survey Data Experience Required<br ...  \n",
       "4  * Ordnance Survey Data Experience Required<br ...  "
      ]
     },
     "execution_count": 2,
     "metadata": {},
     "output_type": "execute_result"
    }
   ],
   "source": [
    "data_scientist = pd.read_csv('data-scientist.csv')\n",
    "data_scientist.head()"
   ]
  },
  {
   "cell_type": "markdown",
   "metadata": {},
   "source": [
    "### Top 10 companies by the most received applications"
   ]
  },
  {
   "cell_type": "code",
   "execution_count": 3,
   "metadata": {},
   "outputs": [
    {
     "data": {
      "text/html": [
       "<div>\n",
       "<style scoped>\n",
       "    .dataframe tbody tr th:only-of-type {\n",
       "        vertical-align: middle;\n",
       "    }\n",
       "\n",
       "    .dataframe tbody tr th {\n",
       "        vertical-align: top;\n",
       "    }\n",
       "\n",
       "    .dataframe thead th {\n",
       "        text-align: right;\n",
       "    }\n",
       "</style>\n",
       "<table border=\"1\" class=\"dataframe\">\n",
       "  <thead>\n",
       "    <tr style=\"text-align: right;\">\n",
       "      <th></th>\n",
       "      <th>employerName</th>\n",
       "      <th>applications</th>\n",
       "    </tr>\n",
       "  </thead>\n",
       "  <tbody>\n",
       "    <tr>\n",
       "      <th>0</th>\n",
       "      <td>Harnham</td>\n",
       "      <td>2198</td>\n",
       "    </tr>\n",
       "    <tr>\n",
       "      <th>1</th>\n",
       "      <td>PeopleGenius</td>\n",
       "      <td>468</td>\n",
       "    </tr>\n",
       "    <tr>\n",
       "      <th>2</th>\n",
       "      <td>Aggregator Network</td>\n",
       "      <td>299</td>\n",
       "    </tr>\n",
       "    <tr>\n",
       "      <th>3</th>\n",
       "      <td>Blue Pelican</td>\n",
       "      <td>286</td>\n",
       "    </tr>\n",
       "    <tr>\n",
       "      <th>4</th>\n",
       "      <td>X4 Group</td>\n",
       "      <td>277</td>\n",
       "    </tr>\n",
       "    <tr>\n",
       "      <th>5</th>\n",
       "      <td>Understanding Recruitment</td>\n",
       "      <td>248</td>\n",
       "    </tr>\n",
       "    <tr>\n",
       "      <th>6</th>\n",
       "      <td>Data Idols</td>\n",
       "      <td>238</td>\n",
       "    </tr>\n",
       "    <tr>\n",
       "      <th>7</th>\n",
       "      <td>Corriculo Ltd</td>\n",
       "      <td>152</td>\n",
       "    </tr>\n",
       "    <tr>\n",
       "      <th>8</th>\n",
       "      <td>Vertical Ambition</td>\n",
       "      <td>147</td>\n",
       "    </tr>\n",
       "    <tr>\n",
       "      <th>9</th>\n",
       "      <td>Anson McCade Ltd - IT and Finance Recruitment</td>\n",
       "      <td>144</td>\n",
       "    </tr>\n",
       "  </tbody>\n",
       "</table>\n",
       "</div>"
      ],
      "text/plain": [
       "                                    employerName  applications\n",
       "0                                        Harnham          2198\n",
       "1                                   PeopleGenius           468\n",
       "2                             Aggregator Network           299\n",
       "3                                   Blue Pelican           286\n",
       "4                                       X4 Group           277\n",
       "5                      Understanding Recruitment           248\n",
       "6                                     Data Idols           238\n",
       "7                                  Corriculo Ltd           152\n",
       "8                              Vertical Ambition           147\n",
       "9  Anson McCade Ltd - IT and Finance Recruitment           144"
      ]
     },
     "execution_count": 3,
     "metadata": {},
     "output_type": "execute_result"
    }
   ],
   "source": [
    "data_scientist15 = data_scientist.groupby(['employerName'])['applications'].sum().sort_values(ascending = False).nlargest(n=10).reset_index()\n",
    "data_scientist15"
   ]
  },
  {
   "cell_type": "code",
   "execution_count": 4,
   "metadata": {},
   "outputs": [
    {
     "data": {
      "text/plain": [
       "0"
      ]
     },
     "execution_count": 4,
     "metadata": {},
     "output_type": "execute_result"
    }
   ],
   "source": [
    "data_scientist15[data_scientist15['employerName'] == 'WhiteHat Group']['applications'].sum()"
   ]
  },
  {
   "cell_type": "markdown",
   "metadata": {},
   "source": [
    "### Top 10 companies by the most listed jobs"
   ]
  },
  {
   "cell_type": "code",
   "execution_count": 5,
   "metadata": {},
   "outputs": [
    {
     "data": {
      "text/html": [
       "<div>\n",
       "<style scoped>\n",
       "    .dataframe tbody tr th:only-of-type {\n",
       "        vertical-align: middle;\n",
       "    }\n",
       "\n",
       "    .dataframe tbody tr th {\n",
       "        vertical-align: top;\n",
       "    }\n",
       "\n",
       "    .dataframe thead th {\n",
       "        text-align: right;\n",
       "    }\n",
       "</style>\n",
       "<table border=\"1\" class=\"dataframe\">\n",
       "  <thead>\n",
       "    <tr style=\"text-align: right;\">\n",
       "      <th></th>\n",
       "      <th>index</th>\n",
       "      <th>employerName</th>\n",
       "    </tr>\n",
       "  </thead>\n",
       "  <tbody>\n",
       "    <tr>\n",
       "      <th>0</th>\n",
       "      <td>Harnham</td>\n",
       "      <td>215</td>\n",
       "    </tr>\n",
       "    <tr>\n",
       "      <th>1</th>\n",
       "      <td>Aggregator Network</td>\n",
       "      <td>43</td>\n",
       "    </tr>\n",
       "    <tr>\n",
       "      <th>2</th>\n",
       "      <td>X4 Group</td>\n",
       "      <td>36</td>\n",
       "    </tr>\n",
       "    <tr>\n",
       "      <th>3</th>\n",
       "      <td>Data Idols</td>\n",
       "      <td>18</td>\n",
       "    </tr>\n",
       "    <tr>\n",
       "      <th>4</th>\n",
       "      <td>PeopleGenius</td>\n",
       "      <td>16</td>\n",
       "    </tr>\n",
       "    <tr>\n",
       "      <th>5</th>\n",
       "      <td>Sphere Digital Recruitment</td>\n",
       "      <td>15</td>\n",
       "    </tr>\n",
       "    <tr>\n",
       "      <th>6</th>\n",
       "      <td>Blue Pelican</td>\n",
       "      <td>14</td>\n",
       "    </tr>\n",
       "    <tr>\n",
       "      <th>7</th>\n",
       "      <td>Understanding Recruitment</td>\n",
       "      <td>13</td>\n",
       "    </tr>\n",
       "    <tr>\n",
       "      <th>8</th>\n",
       "      <td>Jefferson Frank</td>\n",
       "      <td>12</td>\n",
       "    </tr>\n",
       "    <tr>\n",
       "      <th>9</th>\n",
       "      <td>Anson McCade Ltd - IT and Finance Recruitment</td>\n",
       "      <td>12</td>\n",
       "    </tr>\n",
       "  </tbody>\n",
       "</table>\n",
       "</div>"
      ],
      "text/plain": [
       "                                           index  employerName\n",
       "0                                        Harnham           215\n",
       "1                             Aggregator Network            43\n",
       "2                                       X4 Group            36\n",
       "3                                     Data Idols            18\n",
       "4                                   PeopleGenius            16\n",
       "5                     Sphere Digital Recruitment            15\n",
       "6                                   Blue Pelican            14\n",
       "7                      Understanding Recruitment            13\n",
       "8                               Jefferson Frank             12\n",
       "9  Anson McCade Ltd - IT and Finance Recruitment            12"
      ]
     },
     "execution_count": 5,
     "metadata": {},
     "output_type": "execute_result"
    }
   ],
   "source": [
    "data_scientist16 = data_scientist['employerName'].value_counts().sort_values(ascending = False).nlargest(n=10).reset_index()\n",
    "data_scientist16"
   ]
  },
  {
   "cell_type": "markdown",
   "metadata": {},
   "source": [
    "### The most applications received  for various job positions in companies and locations"
   ]
  },
  {
   "cell_type": "code",
   "execution_count": 6,
   "metadata": {},
   "outputs": [
    {
     "data": {
      "text/html": [
       "<div>\n",
       "<style scoped>\n",
       "    .dataframe tbody tr th:only-of-type {\n",
       "        vertical-align: middle;\n",
       "    }\n",
       "\n",
       "    .dataframe tbody tr th {\n",
       "        vertical-align: top;\n",
       "    }\n",
       "\n",
       "    .dataframe thead th {\n",
       "        text-align: right;\n",
       "    }\n",
       "</style>\n",
       "<table border=\"1\" class=\"dataframe\">\n",
       "  <thead>\n",
       "    <tr style=\"text-align: right;\">\n",
       "      <th></th>\n",
       "      <th>employerName</th>\n",
       "      <th>applications</th>\n",
       "    </tr>\n",
       "  </thead>\n",
       "  <tbody>\n",
       "    <tr>\n",
       "      <th>0</th>\n",
       "      <td>Harnham</td>\n",
       "      <td>2198</td>\n",
       "    </tr>\n",
       "    <tr>\n",
       "      <th>1</th>\n",
       "      <td>PeopleGenius</td>\n",
       "      <td>468</td>\n",
       "    </tr>\n",
       "    <tr>\n",
       "      <th>2</th>\n",
       "      <td>Aggregator Network</td>\n",
       "      <td>299</td>\n",
       "    </tr>\n",
       "    <tr>\n",
       "      <th>3</th>\n",
       "      <td>Blue Pelican</td>\n",
       "      <td>286</td>\n",
       "    </tr>\n",
       "    <tr>\n",
       "      <th>4</th>\n",
       "      <td>X4 Group</td>\n",
       "      <td>277</td>\n",
       "    </tr>\n",
       "    <tr>\n",
       "      <th>5</th>\n",
       "      <td>Understanding Recruitment</td>\n",
       "      <td>248</td>\n",
       "    </tr>\n",
       "    <tr>\n",
       "      <th>6</th>\n",
       "      <td>Data Idols</td>\n",
       "      <td>238</td>\n",
       "    </tr>\n",
       "    <tr>\n",
       "      <th>7</th>\n",
       "      <td>Corriculo Ltd</td>\n",
       "      <td>152</td>\n",
       "    </tr>\n",
       "    <tr>\n",
       "      <th>8</th>\n",
       "      <td>Vertical Ambition</td>\n",
       "      <td>147</td>\n",
       "    </tr>\n",
       "    <tr>\n",
       "      <th>9</th>\n",
       "      <td>Anson McCade Ltd - IT and Finance Recruitment</td>\n",
       "      <td>144</td>\n",
       "    </tr>\n",
       "  </tbody>\n",
       "</table>\n",
       "</div>"
      ],
      "text/plain": [
       "                                    employerName  applications\n",
       "0                                        Harnham          2198\n",
       "1                                   PeopleGenius           468\n",
       "2                             Aggregator Network           299\n",
       "3                                   Blue Pelican           286\n",
       "4                                       X4 Group           277\n",
       "5                      Understanding Recruitment           248\n",
       "6                                     Data Idols           238\n",
       "7                                  Corriculo Ltd           152\n",
       "8                              Vertical Ambition           147\n",
       "9  Anson McCade Ltd - IT and Finance Recruitment           144"
      ]
     },
     "execution_count": 6,
     "metadata": {},
     "output_type": "execute_result"
    }
   ],
   "source": [
    "data_scientist17 = data_scientist.groupby(['employerName'])['applications'].sum().sort_values(ascending = False).nlargest(n=10).reset_index()\n",
    "data_scientist17"
   ]
  },
  {
   "cell_type": "code",
   "execution_count": 7,
   "metadata": {},
   "outputs": [
    {
     "data": {
      "text/html": [
       "<div>\n",
       "<style scoped>\n",
       "    .dataframe tbody tr th:only-of-type {\n",
       "        vertical-align: middle;\n",
       "    }\n",
       "\n",
       "    .dataframe tbody tr th {\n",
       "        vertical-align: top;\n",
       "    }\n",
       "\n",
       "    .dataframe thead th {\n",
       "        text-align: right;\n",
       "    }\n",
       "</style>\n",
       "<table border=\"1\" class=\"dataframe\">\n",
       "  <thead>\n",
       "    <tr style=\"text-align: right;\">\n",
       "      <th></th>\n",
       "      <th>locationName</th>\n",
       "      <th>applications</th>\n",
       "    </tr>\n",
       "  </thead>\n",
       "  <tbody>\n",
       "    <tr>\n",
       "      <th>0</th>\n",
       "      <td>London</td>\n",
       "      <td>5102</td>\n",
       "    </tr>\n",
       "    <tr>\n",
       "      <th>1</th>\n",
       "      <td>Manchester</td>\n",
       "      <td>290</td>\n",
       "    </tr>\n",
       "    <tr>\n",
       "      <th>2</th>\n",
       "      <td>Oxford</td>\n",
       "      <td>193</td>\n",
       "    </tr>\n",
       "    <tr>\n",
       "      <th>3</th>\n",
       "      <td>Cambridge</td>\n",
       "      <td>180</td>\n",
       "    </tr>\n",
       "    <tr>\n",
       "      <th>4</th>\n",
       "      <td>Reading</td>\n",
       "      <td>114</td>\n",
       "    </tr>\n",
       "    <tr>\n",
       "      <th>5</th>\n",
       "      <td>Leeds</td>\n",
       "      <td>112</td>\n",
       "    </tr>\n",
       "    <tr>\n",
       "      <th>6</th>\n",
       "      <td>Leamington Spa</td>\n",
       "      <td>92</td>\n",
       "    </tr>\n",
       "    <tr>\n",
       "      <th>7</th>\n",
       "      <td>Bristol</td>\n",
       "      <td>79</td>\n",
       "    </tr>\n",
       "    <tr>\n",
       "      <th>8</th>\n",
       "      <td>Southampton</td>\n",
       "      <td>74</td>\n",
       "    </tr>\n",
       "    <tr>\n",
       "      <th>9</th>\n",
       "      <td>Milton Keynes</td>\n",
       "      <td>73</td>\n",
       "    </tr>\n",
       "  </tbody>\n",
       "</table>\n",
       "</div>"
      ],
      "text/plain": [
       "     locationName  applications\n",
       "0          London          5102\n",
       "1      Manchester           290\n",
       "2          Oxford           193\n",
       "3       Cambridge           180\n",
       "4         Reading           114\n",
       "5           Leeds           112\n",
       "6  Leamington Spa            92\n",
       "7         Bristol            79\n",
       "8     Southampton            74\n",
       "9   Milton Keynes            73"
      ]
     },
     "execution_count": 7,
     "metadata": {},
     "output_type": "execute_result"
    }
   ],
   "source": [
    "data_scientist18 = data_scientist.groupby(['locationName'])['applications'].sum().sort_values(ascending = False).nlargest(n=10).reset_index()\n",
    "data_scientist18"
   ]
  },
  {
   "cell_type": "markdown",
   "metadata": {},
   "source": [
    "### Maximum average salary of top 10 companies"
   ]
  },
  {
   "cell_type": "code",
   "execution_count": 8,
   "metadata": {},
   "outputs": [
    {
     "data": {
      "text/html": [
       "<div>\n",
       "<style scoped>\n",
       "    .dataframe tbody tr th:only-of-type {\n",
       "        vertical-align: middle;\n",
       "    }\n",
       "\n",
       "    .dataframe tbody tr th {\n",
       "        vertical-align: top;\n",
       "    }\n",
       "\n",
       "    .dataframe thead th {\n",
       "        text-align: right;\n",
       "    }\n",
       "</style>\n",
       "<table border=\"1\" class=\"dataframe\">\n",
       "  <thead>\n",
       "    <tr style=\"text-align: right;\">\n",
       "      <th></th>\n",
       "      <th>employerName</th>\n",
       "      <th>maximumSalary</th>\n",
       "    </tr>\n",
       "  </thead>\n",
       "  <tbody>\n",
       "    <tr>\n",
       "      <th>0</th>\n",
       "      <td>Reed Specialist Recruitment</td>\n",
       "      <td>110000.000000</td>\n",
       "    </tr>\n",
       "    <tr>\n",
       "      <th>1</th>\n",
       "      <td>Eames Consulting Group</td>\n",
       "      <td>100000.000000</td>\n",
       "    </tr>\n",
       "    <tr>\n",
       "      <th>2</th>\n",
       "      <td>Arthur</td>\n",
       "      <td>95000.000000</td>\n",
       "    </tr>\n",
       "    <tr>\n",
       "      <th>3</th>\n",
       "      <td>Eden James Consulting Ltd</td>\n",
       "      <td>95000.000000</td>\n",
       "    </tr>\n",
       "    <tr>\n",
       "      <th>4</th>\n",
       "      <td>Zazu Digital</td>\n",
       "      <td>90000.000000</td>\n",
       "    </tr>\n",
       "    <tr>\n",
       "      <th>5</th>\n",
       "      <td>Harnham</td>\n",
       "      <td>86854.651163</td>\n",
       "    </tr>\n",
       "    <tr>\n",
       "      <th>6</th>\n",
       "      <td>Amber Resourcing</td>\n",
       "      <td>85000.000000</td>\n",
       "    </tr>\n",
       "    <tr>\n",
       "      <th>7</th>\n",
       "      <td>FRG Technology Consulting</td>\n",
       "      <td>83400.000000</td>\n",
       "    </tr>\n",
       "    <tr>\n",
       "      <th>8</th>\n",
       "      <td>Profile 29</td>\n",
       "      <td>80000.000000</td>\n",
       "    </tr>\n",
       "    <tr>\n",
       "      <th>9</th>\n",
       "      <td>MFK Recruitment</td>\n",
       "      <td>80000.000000</td>\n",
       "    </tr>\n",
       "  </tbody>\n",
       "</table>\n",
       "</div>"
      ],
      "text/plain": [
       "                  employerName  maximumSalary\n",
       "0  Reed Specialist Recruitment  110000.000000\n",
       "1       Eames Consulting Group  100000.000000\n",
       "2                       Arthur   95000.000000\n",
       "3    Eden James Consulting Ltd   95000.000000\n",
       "4                 Zazu Digital   90000.000000\n",
       "5                      Harnham   86854.651163\n",
       "6             Amber Resourcing   85000.000000\n",
       "7   FRG Technology Consulting    83400.000000\n",
       "8                   Profile 29   80000.000000\n",
       "9              MFK Recruitment   80000.000000"
      ]
     },
     "execution_count": 8,
     "metadata": {},
     "output_type": "execute_result"
    }
   ],
   "source": [
    "data_scientist19 = data_scientist.groupby(['employerName'])['maximumSalary'].mean().sort_values(ascending = False).nlargest(n=10).reset_index()\n",
    "data_scientist19"
   ]
  },
  {
   "cell_type": "markdown",
   "metadata": {},
   "source": [
    "### Which is the most skills required for a Data Analyst job\n",
    "First check the most used words in job title and download stopwords for NLP analysis"
   ]
  },
  {
   "cell_type": "code",
   "execution_count": 9,
   "metadata": {},
   "outputs": [
    {
     "name": "stdout",
     "output_type": "stream",
     "text": [
      "Requirement already satisfied: nltk in c:\\users\\ghs lab pc\\anaconda3\\lib\\site-packages (3.5)\n",
      "Requirement already satisfied: regex in c:\\users\\ghs lab pc\\anaconda3\\lib\\site-packages (from nltk) (2020.6.8)\n",
      "Requirement already satisfied: click in c:\\users\\ghs lab pc\\anaconda3\\lib\\site-packages (from nltk) (7.1.2)\n",
      "Requirement already satisfied: tqdm in c:\\users\\ghs lab pc\\anaconda3\\lib\\site-packages (from nltk) (4.47.0)\n",
      "Requirement already satisfied: joblib in c:\\users\\ghs lab pc\\anaconda3\\lib\\site-packages (from nltk) (0.16.0)\n"
     ]
    },
    {
     "name": "stderr",
     "output_type": "stream",
     "text": [
      "[nltk_data] Downloading package stopwords to C:\\Users\\GHS Lab\n",
      "[nltk_data]     PC\\AppData\\Roaming\\nltk_data...\n",
      "[nltk_data]   Package stopwords is already up-to-date!\n"
     ]
    }
   ],
   "source": [
    "! pip install nltk\n",
    "nltk.download('stopwords') \n",
    "stopwords = nltk.corpus.stopwords.words('english')"
   ]
  },
  {
   "cell_type": "markdown",
   "metadata": {},
   "source": [
    "### Set for removal words"
   ]
  },
  {
   "cell_type": "code",
   "execution_count": 10,
   "metadata": {},
   "outputs": [],
   "source": [
    "remove_words = set(stopwords + list(string.punctuation) + list(string.digits))"
   ]
  },
  {
   "cell_type": "markdown",
   "metadata": {},
   "source": [
    "### Check the most used words in job title"
   ]
  },
  {
   "cell_type": "code",
   "execution_count": 11,
   "metadata": {},
   "outputs": [],
   "source": [
    "job_title = data_scientist[data_scientist['jobTitle'] != '-1']['jobTitle'].tolist()\n",
    "list_of_words = []\n",
    "for item in job_title:\n",
    "    content = nltk.word_tokenize(item)\n",
    "    for word in content:\n",
    "        # remove unwanted words\n",
    "       if word.lower() not in remove_words and word.lower() != 'data'and word.lower() != 'analyst' and word.lower() != 'data analyst':\n",
    "            list_of_words.append(word.upper())"
   ]
  },
  {
   "cell_type": "markdown",
   "metadata": {},
   "source": [
    "### Conver list into pandas data frame"
   ]
  },
  {
   "cell_type": "code",
   "execution_count": 12,
   "metadata": {},
   "outputs": [
    {
     "data": {
      "text/html": [
       "<div>\n",
       "<style scoped>\n",
       "    .dataframe tbody tr th:only-of-type {\n",
       "        vertical-align: middle;\n",
       "    }\n",
       "\n",
       "    .dataframe tbody tr th {\n",
       "        vertical-align: top;\n",
       "    }\n",
       "\n",
       "    .dataframe thead th {\n",
       "        text-align: right;\n",
       "    }\n",
       "</style>\n",
       "<table border=\"1\" class=\"dataframe\">\n",
       "  <thead>\n",
       "    <tr style=\"text-align: right;\">\n",
       "      <th></th>\n",
       "      <th>Job Title</th>\n",
       "    </tr>\n",
       "  </thead>\n",
       "  <tbody>\n",
       "    <tr>\n",
       "      <th>0</th>\n",
       "      <td>SCIENCE</td>\n",
       "    </tr>\n",
       "    <tr>\n",
       "      <th>1</th>\n",
       "      <td>MACHINE</td>\n",
       "    </tr>\n",
       "    <tr>\n",
       "      <th>2</th>\n",
       "      <td>LEARNING</td>\n",
       "    </tr>\n",
       "    <tr>\n",
       "      <th>3</th>\n",
       "      <td>RESEARCH</td>\n",
       "    </tr>\n",
       "    <tr>\n",
       "      <th>4</th>\n",
       "      <td>ENGINEER</td>\n",
       "    </tr>\n",
       "    <tr>\n",
       "      <th>...</th>\n",
       "      <td>...</td>\n",
       "    </tr>\n",
       "    <tr>\n",
       "      <th>1743</th>\n",
       "      <td>CLEARED</td>\n",
       "    </tr>\n",
       "    <tr>\n",
       "      <th>1744</th>\n",
       "      <td>PRINCIPAL</td>\n",
       "    </tr>\n",
       "    <tr>\n",
       "      <th>1745</th>\n",
       "      <td>SCIENTIST</td>\n",
       "    </tr>\n",
       "    <tr>\n",
       "      <th>1746</th>\n",
       "      <td>DV</td>\n",
       "    </tr>\n",
       "    <tr>\n",
       "      <th>1747</th>\n",
       "      <td>CLEARED</td>\n",
       "    </tr>\n",
       "  </tbody>\n",
       "</table>\n",
       "<p>1748 rows × 1 columns</p>\n",
       "</div>"
      ],
      "text/plain": [
       "      Job Title\n",
       "0       SCIENCE\n",
       "1       MACHINE\n",
       "2      LEARNING\n",
       "3      RESEARCH\n",
       "4      ENGINEER\n",
       "...         ...\n",
       "1743    CLEARED\n",
       "1744  PRINCIPAL\n",
       "1745  SCIENTIST\n",
       "1746         DV\n",
       "1747    CLEARED\n",
       "\n",
       "[1748 rows x 1 columns]"
      ]
     },
     "execution_count": 12,
     "metadata": {},
     "output_type": "execute_result"
    }
   ],
   "source": [
    "list_of_words1 = pd.DataFrame({'Job Title': list_of_words}) \n",
    "list_of_words1"
   ]
  },
  {
   "cell_type": "markdown",
   "metadata": {},
   "source": [
    "### Check unique words in the above job title column"
   ]
  },
  {
   "cell_type": "code",
   "execution_count": 13,
   "metadata": {
    "scrolled": true
   },
   "outputs": [
    {
     "data": {
      "text/plain": [
       "array(['SCIENCE', 'MACHINE', 'LEARNING', 'RESEARCH', 'ENGINEER',\n",
       "       'SCIENTIST', 'MID-LEVEL', 'SENIOR', 'MONTHS', 'FTC', 'ORDNANCE',\n",
       "       'SURVEY', 'CONTRACT', 'LEAD', 'BIOINFORMATICS', 'NGS', 'CHINESE',\n",
       "       'MANDARIN', 'SPEAKING', 'VISUALISATION', 'PYTHON', 'DEFENCE',\n",
       "       'CONSULTANT', 'NLP', 'FULLY-REMOTE', 'ASSET', 'MANAGEMENT',\n",
       "       'GAMING/', 'BETTING', 'SQL', 'FULLY', 'REMOTE', 'RESEARCHER',\n",
       "       'RECOMMENDATION', 'SYSTEMS', 'MARTECH', 'START', 'COMPUTER',\n",
       "       'VISION', 'X3', 'POSITIONS', 'FINANCE', 'TECHNOLOGY', 'PRINCIPAL',\n",
       "       'FRONT', 'END', 'DEVELOPER', 'ANALYTICS', 'DIRECTOR', 'DIGITAL',\n",
       "       '6M', 'PORTFOLIO', 'RISK', 'SENIOR/', 'HEAD', 'PRODUCT', 'JUNIOR',\n",
       "       'GRADUATE', 'MEDICAL', 'SCIENTIST/', 'MARKETING', 'TOP', 'AGENCY',\n",
       "       'CREDIT', 'DECISIONING', 'CREDIT/', 'LENDING', 'ECOMMERCE', 'PART',\n",
       "       'QUANT', 'QUANTITATIVE', 'BUSINESS', 'SCIENTIST-', 'LEADING',\n",
       "       'TRADING', 'FIRM', 'LONDON-', 'HEDGE', 'FUND', 'ANALYST/JUNIOR',\n",
       "       'INTERNSHIP', 'PERMANENT', 'POSITION', 'MANAGER', 'ONLINE',\n",
       "       'ENTERTAINMENT', 'ASENIOR', 'LABORATORY', 'PLATFORM', '£55,000',\n",
       "       'DV', 'SC', 'BPSS', 'CLEARED', 'MANCHESTER', 'WORK', 'AVAILABLE',\n",
       "       'INSURANCE', 'PRICING', 'ADVANCED', 'EDINBURGH', 'NATWEST',\n",
       "       'GROUP', 'CAREERS', 'NATO', 'QUANTAMENTAL', 'EQUITY',\n",
       "       'CAUSALITY-FOCUSED', 'FINTECH', 'SYSTEMATIC', 'LEAD/HEAD', 'WEST',\n",
       "       'SUSSEX', 'STATISTICAL', 'MODELLER', 'BRD', 'LARGE', 'MIGRATION',\n",
       "       'PROJECT', 'NORTH', 'EAST', 'RWE', 'BIOTECH', 'JUNIOR/GRADUATE',\n",
       "       'BI', 'MATHS', 'STATS', '35-50K', 'ML', 'PURE', 'PLAY', 'MARKET',\n",
       "       'LEADER', 'DEVELOPER/', 'MONTH', 'TECH', '£55K', 'SNR', 'HELSINKI',\n",
       "       'FINNISH', 'LONDON', 'TEAM', 'PROGRAMMATIC', 'LOND', 'ETL', 'HR',\n",
       "       'ML/NLP', 'COMMERCIAL', 'ECONOMETRICS', 'FORECASTING', 'CAUSAL',\n",
       "       'INFERENCE', 'CONTRACTOR', 'R', 'CUSTOMER', 'AI', 'CNN', '12',\n",
       "       'FIXED', 'TERM', 'READING', 'HALIFAX', 'CRM', 'LOCUM',\n",
       "       'MICROBIOLOGY', 'BIOMEDICAL', 'JOB', 'LEAMINGTON', 'SPA',\n",
       "       'HERTFORDSHIRE', 'LIFE', 'SCIENCES', 'BILINGUAL', 'EMA', 'EU',\n",
       "       'LANGUAGES'], dtype=object)"
      ]
     },
     "execution_count": 13,
     "metadata": {},
     "output_type": "execute_result"
    }
   ],
   "source": [
    "list_of_words1['Job Title'].unique()"
   ]
  },
  {
   "cell_type": "markdown",
   "metadata": {},
   "source": [
    "### Count the top 20 most used words"
   ]
  },
  {
   "cell_type": "code",
   "execution_count": 14,
   "metadata": {},
   "outputs": [
    {
     "data": {
      "text/html": [
       "<div>\n",
       "<style scoped>\n",
       "    .dataframe tbody tr th:only-of-type {\n",
       "        vertical-align: middle;\n",
       "    }\n",
       "\n",
       "    .dataframe tbody tr th {\n",
       "        vertical-align: top;\n",
       "    }\n",
       "\n",
       "    .dataframe thead th {\n",
       "        text-align: right;\n",
       "    }\n",
       "</style>\n",
       "<table border=\"1\" class=\"dataframe\">\n",
       "  <thead>\n",
       "    <tr style=\"text-align: right;\">\n",
       "      <th></th>\n",
       "      <th>index</th>\n",
       "      <th>Job Title</th>\n",
       "    </tr>\n",
       "  </thead>\n",
       "  <tbody>\n",
       "    <tr>\n",
       "      <th>0</th>\n",
       "      <td>SCIENTIST</td>\n",
       "      <td>659</td>\n",
       "    </tr>\n",
       "    <tr>\n",
       "      <th>1</th>\n",
       "      <td>SENIOR</td>\n",
       "      <td>166</td>\n",
       "    </tr>\n",
       "    <tr>\n",
       "      <th>2</th>\n",
       "      <td>SCIENCE</td>\n",
       "      <td>62</td>\n",
       "    </tr>\n",
       "    <tr>\n",
       "      <th>3</th>\n",
       "      <td>LEAD</td>\n",
       "      <td>55</td>\n",
       "    </tr>\n",
       "    <tr>\n",
       "      <th>4</th>\n",
       "      <td>PRINCIPAL</td>\n",
       "      <td>36</td>\n",
       "    </tr>\n",
       "    <tr>\n",
       "      <th>5</th>\n",
       "      <td>PYTHON</td>\n",
       "      <td>27</td>\n",
       "    </tr>\n",
       "    <tr>\n",
       "      <th>6</th>\n",
       "      <td>CONTRACT</td>\n",
       "      <td>27</td>\n",
       "    </tr>\n",
       "    <tr>\n",
       "      <th>7</th>\n",
       "      <td>LEARNING</td>\n",
       "      <td>24</td>\n",
       "    </tr>\n",
       "    <tr>\n",
       "      <th>8</th>\n",
       "      <td>MACHINE</td>\n",
       "      <td>24</td>\n",
       "    </tr>\n",
       "    <tr>\n",
       "      <th>9</th>\n",
       "      <td>NLP</td>\n",
       "      <td>24</td>\n",
       "    </tr>\n",
       "    <tr>\n",
       "      <th>10</th>\n",
       "      <td>REMOTE</td>\n",
       "      <td>19</td>\n",
       "    </tr>\n",
       "    <tr>\n",
       "      <th>11</th>\n",
       "      <td>ENGINEER</td>\n",
       "      <td>18</td>\n",
       "    </tr>\n",
       "    <tr>\n",
       "      <th>12</th>\n",
       "      <td>HEAD</td>\n",
       "      <td>17</td>\n",
       "    </tr>\n",
       "    <tr>\n",
       "      <th>13</th>\n",
       "      <td>ANALYTICS</td>\n",
       "      <td>15</td>\n",
       "    </tr>\n",
       "    <tr>\n",
       "      <th>14</th>\n",
       "      <td>PRICING</td>\n",
       "      <td>14</td>\n",
       "    </tr>\n",
       "    <tr>\n",
       "      <th>15</th>\n",
       "      <td>QUANT</td>\n",
       "      <td>13</td>\n",
       "    </tr>\n",
       "    <tr>\n",
       "      <th>16</th>\n",
       "      <td>JUNIOR</td>\n",
       "      <td>13</td>\n",
       "    </tr>\n",
       "    <tr>\n",
       "      <th>17</th>\n",
       "      <td>GRADUATE</td>\n",
       "      <td>11</td>\n",
       "    </tr>\n",
       "    <tr>\n",
       "      <th>18</th>\n",
       "      <td>RESEARCH</td>\n",
       "      <td>9</td>\n",
       "    </tr>\n",
       "    <tr>\n",
       "      <th>19</th>\n",
       "      <td>MANAGEMENT</td>\n",
       "      <td>9</td>\n",
       "    </tr>\n",
       "  </tbody>\n",
       "</table>\n",
       "</div>"
      ],
      "text/plain": [
       "         index  Job Title\n",
       "0    SCIENTIST        659\n",
       "1       SENIOR        166\n",
       "2      SCIENCE         62\n",
       "3         LEAD         55\n",
       "4    PRINCIPAL         36\n",
       "5       PYTHON         27\n",
       "6     CONTRACT         27\n",
       "7     LEARNING         24\n",
       "8      MACHINE         24\n",
       "9          NLP         24\n",
       "10      REMOTE         19\n",
       "11    ENGINEER         18\n",
       "12        HEAD         17\n",
       "13   ANALYTICS         15\n",
       "14     PRICING         14\n",
       "15       QUANT         13\n",
       "16      JUNIOR         13\n",
       "17    GRADUATE         11\n",
       "18    RESEARCH          9\n",
       "19  MANAGEMENT          9"
      ]
     },
     "execution_count": 14,
     "metadata": {},
     "output_type": "execute_result"
    }
   ],
   "source": [
    "data_scientist20 = list_of_words1['Job Title'].value_counts().sort_values(ascending = False).nlargest(n=20).reset_index()\n",
    "data_scientist20"
   ]
  },
  {
   "cell_type": "markdown",
   "metadata": {},
   "source": [
    "### Next check the most listed skills in the main data frame job title column\n",
    "#### To extract name entity recognition from all job titles and save in a dictionary"
   ]
  },
  {
   "cell_type": "code",
   "execution_count": 15,
   "metadata": {
    "scrolled": true
   },
   "outputs": [
    {
     "name": "stdout",
     "output_type": "stream",
     "text": [
      "Collecting https://github.com/explosion/spacy-models/releases/download/en_core_web_sm-2.3.1/en_core_web_sm-2.3.1.tar.gz\n",
      "  Downloading https://github.com/explosion/spacy-models/releases/download/en_core_web_sm-2.3.1/en_core_web_sm-2.3.1.tar.gz (12.0 MB)\n",
      "Requirement already satisfied (use --upgrade to upgrade): en-core-web-sm==2.3.1 from https://github.com/explosion/spacy-models/releases/download/en_core_web_sm-2.3.1/en_core_web_sm-2.3.1.tar.gz in c:\\users\\ghs lab pc\\anaconda3\\lib\\site-packages\n",
      "Requirement already satisfied: spacy<2.4.0,>=2.3.0 in c:\\users\\ghs lab pc\\anaconda3\\lib\\site-packages (from en-core-web-sm==2.3.1) (2.3.5)\n",
      "Requirement already satisfied: thinc<7.5.0,>=7.4.1 in c:\\users\\ghs lab pc\\anaconda3\\lib\\site-packages (from spacy<2.4.0,>=2.3.0->en-core-web-sm==2.3.1) (7.4.5)\n",
      "Requirement already satisfied: catalogue<1.1.0,>=0.0.7 in c:\\users\\ghs lab pc\\anaconda3\\lib\\site-packages (from spacy<2.4.0,>=2.3.0->en-core-web-sm==2.3.1) (1.0.0)\n",
      "Requirement already satisfied: setuptools in c:\\users\\ghs lab pc\\anaconda3\\lib\\site-packages (from spacy<2.4.0,>=2.3.0->en-core-web-sm==2.3.1) (49.2.0.post20200714)\n",
      "Requirement already satisfied: requests<3.0.0,>=2.13.0 in c:\\users\\ghs lab pc\\anaconda3\\lib\\site-packages (from spacy<2.4.0,>=2.3.0->en-core-web-sm==2.3.1) (2.24.0)\n",
      "Requirement already satisfied: plac<1.2.0,>=0.9.6 in c:\\users\\ghs lab pc\\anaconda3\\lib\\site-packages (from spacy<2.4.0,>=2.3.0->en-core-web-sm==2.3.1) (1.1.3)\n",
      "Requirement already satisfied: tqdm<5.0.0,>=4.38.0 in c:\\users\\ghs lab pc\\anaconda3\\lib\\site-packages (from spacy<2.4.0,>=2.3.0->en-core-web-sm==2.3.1) (4.47.0)\n",
      "Requirement already satisfied: preshed<3.1.0,>=3.0.2 in c:\\users\\ghs lab pc\\anaconda3\\lib\\site-packages (from spacy<2.4.0,>=2.3.0->en-core-web-sm==2.3.1) (3.0.5)\n",
      "Requirement already satisfied: blis<0.8.0,>=0.4.0 in c:\\users\\ghs lab pc\\anaconda3\\lib\\site-packages (from spacy<2.4.0,>=2.3.0->en-core-web-sm==2.3.1) (0.7.4)\n",
      "Requirement already satisfied: murmurhash<1.1.0,>=0.28.0 in c:\\users\\ghs lab pc\\anaconda3\\lib\\site-packages (from spacy<2.4.0,>=2.3.0->en-core-web-sm==2.3.1) (1.0.5)\n",
      "Requirement already satisfied: srsly<1.1.0,>=1.0.2 in c:\\users\\ghs lab pc\\anaconda3\\lib\\site-packages (from spacy<2.4.0,>=2.3.0->en-core-web-sm==2.3.1) (1.0.5)\n",
      "Requirement already satisfied: numpy>=1.15.0 in c:\\users\\ghs lab pc\\anaconda3\\lib\\site-packages (from spacy<2.4.0,>=2.3.0->en-core-web-sm==2.3.1) (1.18.5)\n",
      "Requirement already satisfied: cymem<2.1.0,>=2.0.2 in c:\\users\\ghs lab pc\\anaconda3\\lib\\site-packages (from spacy<2.4.0,>=2.3.0->en-core-web-sm==2.3.1) (2.0.5)\n",
      "Requirement already satisfied: wasabi<1.1.0,>=0.4.0 in c:\\users\\ghs lab pc\\anaconda3\\lib\\site-packages (from spacy<2.4.0,>=2.3.0->en-core-web-sm==2.3.1) (0.8.2)\n",
      "Requirement already satisfied: idna<3,>=2.5 in c:\\users\\ghs lab pc\\anaconda3\\lib\\site-packages (from requests<3.0.0,>=2.13.0->spacy<2.4.0,>=2.3.0->en-core-web-sm==2.3.1) (2.10)\n",
      "Requirement already satisfied: certifi>=2017.4.17 in c:\\users\\ghs lab pc\\anaconda3\\lib\\site-packages (from requests<3.0.0,>=2.13.0->spacy<2.4.0,>=2.3.0->en-core-web-sm==2.3.1) (2020.6.20)\n",
      "Requirement already satisfied: urllib3!=1.25.0,!=1.25.1,<1.26,>=1.21.1 in c:\\users\\ghs lab pc\\anaconda3\\lib\\site-packages (from requests<3.0.0,>=2.13.0->spacy<2.4.0,>=2.3.0->en-core-web-sm==2.3.1) (1.25.9)\n",
      "Requirement already satisfied: chardet<4,>=3.0.2 in c:\\users\\ghs lab pc\\anaconda3\\lib\\site-packages (from requests<3.0.0,>=2.13.0->spacy<2.4.0,>=2.3.0->en-core-web-sm==2.3.1) (3.0.4)\n",
      "Building wheels for collected packages: en-core-web-sm\n",
      "  Building wheel for en-core-web-sm (setup.py): started\n",
      "  Building wheel for en-core-web-sm (setup.py): finished with status 'done'\n",
      "  Created wheel for en-core-web-sm: filename=en_core_web_sm-2.3.1-py3-none-any.whl size=12047114 sha256=d0d2062e7c054ab1e6bfc8db8de73633d57cb44e1820bd8aea6d03572ae2bf0a\n",
      "  Stored in directory: c:\\users\\ghs lab pc\\appdata\\local\\pip\\cache\\wheels\\ee\\4d\\f7\\563214122be1540b5f9197b52cb3ddb9c4a8070808b22d5a84\n",
      "Successfully built en-core-web-sm\n"
     ]
    }
   ],
   "source": [
    "!pip3 install https://github.com/explosion/spacy-models/releases/download/en_core_web_sm-2.3.1/en_core_web_sm-2.3.1.tar.gz\n",
    "import spacy\n",
    "nlp = spacy.load('en_core_web_sm')\n",
    "\n",
    "name_entity_recognition_job_title = {}\n",
    "\n",
    "for item in job_title:\n",
    "    token = nlp(item)\n",
    "    for ent in token.ents:      \n",
    "        name_entity_recognition_job_title.setdefault(ent.label_ , []).append(ent.text) "
   ]
  },
  {
   "cell_type": "code",
   "execution_count": 16,
   "metadata": {},
   "outputs": [
    {
     "data": {
      "text/plain": [
       "dict_keys(['ORG', 'DATE', 'PERSON', 'NORP', 'LANGUAGE', 'PRODUCT', 'GPE'])"
      ]
     },
     "execution_count": 16,
     "metadata": {},
     "output_type": "execute_result"
    }
   ],
   "source": [
    "name_entity_recognition_job_title.keys()"
   ]
  },
  {
   "cell_type": "code",
   "execution_count": 17,
   "metadata": {
    "scrolled": true
   },
   "outputs": [
    {
     "data": {
      "text/plain": [
       "[('Data Scientist Ordnance Survey Data', 6),\n",
       " ('Computer Vision', 6),\n",
       " ('Data Scientist - eCommerce Analytics - Part Remote', 6),\n",
       " ('Data Scientist / Mid-Level /', 4),\n",
       " ('Data Analyst', 4),\n",
       " ('Data Visualisation', 4),\n",
       " ('Machine Learning', 4),\n",
       " ('NLP', 4),\n",
       " ('Data Engineer - Data Science', 4),\n",
       " ('Data Science & Machine Learning Research', 3),\n",
       " ('Data Scientist - Python', 3),\n",
       " ('SQL - Fully', 3),\n",
       " ('Machine Learning Researcher', 3),\n",
       " ('Data Scientist / Machine Learning Engineer - Martech', 3),\n",
       " ('Data Scientist - Digital Analytics', 3),\n",
       " ('Portfolio Risk Management', 3),\n",
       " ('Data Scientist Medical,', 3),\n",
       " ('Analyst / Data Scientist-', 3),\n",
       " ('Analyst / Data Scientist - London- Hedge Fund', 3),\n",
       " ('Data Analyst / Data Scientist', 3),\n",
       " ('Analyst/Junior Data Scientist', 3),\n",
       " ('Data Scientist / Data Analyst', 3),\n",
       " ('Laboratory Data Scientist', 2),\n",
       " ('DV', 2),\n",
       " ('SC', 2),\n",
       " ('BPSS', 2),\n",
       " ('Advanced Analytics', 2),\n",
       " ('Data Scientist - Hedge Fund', 2),\n",
       " ('NatWest Group', 2),\n",
       " ('Data Scientist- Systematic Quant Fund', 2),\n",
       " ('RWE Data Scientist', 2),\n",
       " ('Junior/Graduate Data Scientist', 2),\n",
       " ('SQL', 2),\n",
       " ('CNN', 2),\n",
       " ('Locum Microbiology Biomedical', 2),\n",
       " ('Data Scientist - Life Sciences', 2),\n",
       " ('EMA', 2),\n",
       " ('Analytics & Data Science Director', 1),\n",
       " ('Marketing & Data Science Director - Top Research Agency', 1)]"
      ]
     },
     "execution_count": 17,
     "metadata": {},
     "output_type": "execute_result"
    }
   ],
   "source": [
    "collections.Counter(name_entity_recognition_job_title['ORG']).most_common()"
   ]
  },
  {
   "cell_type": "code",
   "execution_count": 18,
   "metadata": {},
   "outputs": [
    {
     "data": {
      "text/plain": [
       "[('Lead Data Scientist', 25),\n",
       " ('Data Scientist', 12),\n",
       " ('Data Scientist/', 3),\n",
       " ('Data Science - Lead/', 2),\n",
       " ('Causal Inference - Contract', 2),\n",
       " ('Lead Developer', 2)]"
      ]
     },
     "execution_count": 18,
     "metadata": {},
     "output_type": "execute_result"
    }
   ],
   "source": [
    "collections.Counter(name_entity_recognition_job_title['PERSON']).most_common()"
   ]
  },
  {
   "cell_type": "code",
   "execution_count": 19,
   "metadata": {},
   "outputs": [
    {
     "data": {
      "text/plain": [
       "[('35-50k', 4),\n",
       " ('5 Months', 3),\n",
       " ('3 month', 2),\n",
       " ('5 Month', 2),\n",
       " ('12 month', 2)]"
      ]
     },
     "execution_count": 19,
     "metadata": {},
     "output_type": "execute_result"
    }
   ],
   "source": [
    "collections.Counter(name_entity_recognition_job_title['DATE']).most_common(10)"
   ]
  },
  {
   "cell_type": "code",
   "execution_count": 20,
   "metadata": {},
   "outputs": [
    {
     "data": {
      "text/plain": [
       "[('Chinese', 4), ('Finnish', 2)]"
      ]
     },
     "execution_count": 20,
     "metadata": {},
     "output_type": "execute_result"
    }
   ],
   "source": [
    "collections.Counter(name_entity_recognition_job_title['NORP']).most_common(10)"
   ]
  },
  {
   "cell_type": "code",
   "execution_count": 23,
   "metadata": {},
   "outputs": [
    {
     "data": {
      "text/plain": [
       "[('Mandarin', 4)]"
      ]
     },
     "execution_count": 23,
     "metadata": {},
     "output_type": "execute_result"
    }
   ],
   "source": [
    "collections.Counter(name_entity_recognition_job_title['LANGUAGE']).most_common(10)"
   ]
  },
  {
   "cell_type": "markdown",
   "metadata": {},
   "source": [
    "### By viewing above, there are some useful technology skills are mentioned in the job title column\n",
    "Create list of these skills"
   ]
  },
  {
   "cell_type": "code",
   "execution_count": null,
   "metadata": {},
   "outputs": [],
   "source": [
    "list_of_useful_words = ['PYTHON', 'NLP', 'SQL']"
   ]
  },
  {
   "cell_type": "markdown",
   "metadata": {},
   "source": [
    "### Next I check how many times the above skills are mentioned in the job title colum"
   ]
  },
  {
   "cell_type": "code",
   "execution_count": null,
   "metadata": {},
   "outputs": [],
   "source": [
    "count_skills_word = []\n",
    "for word in list_of_words:\n",
    "    if word in list_of_useful_words:\n",
    "        count_skills_word.append(word)"
   ]
  },
  {
   "cell_type": "code",
   "execution_count": null,
   "metadata": {
    "scrolled": true
   },
   "outputs": [],
   "source": [
    "list_of_words2 = pd.DataFrame({'Job Title': count_skills_word}) \n",
    "list_of_words2"
   ]
  },
  {
   "cell_type": "code",
   "execution_count": null,
   "metadata": {},
   "outputs": [],
   "source": [
    "list_of_words2['Job Title'].unique()"
   ]
  },
  {
   "cell_type": "code",
   "execution_count": null,
   "metadata": {},
   "outputs": [],
   "source": [
    "data_scientist21 = list_of_words2['Job Title'].value_counts().sort_values(ascending = False).nlargest(n=20).reset_index()\n",
    "data_scientist21"
   ]
  },
  {
   "cell_type": "code",
   "execution_count": null,
   "metadata": {},
   "outputs": [],
   "source": []
  }
 ],
 "metadata": {
  "kernelspec": {
   "display_name": "Python 3",
   "language": "python",
   "name": "python3"
  },
  "language_info": {
   "codemirror_mode": {
    "name": "ipython",
    "version": 3
   },
   "file_extension": ".py",
   "mimetype": "text/x-python",
   "name": "python",
   "nbconvert_exporter": "python",
   "pygments_lexer": "ipython3",
   "version": "3.8.3"
  }
 },
 "nbformat": 4,
 "nbformat_minor": 4
}
