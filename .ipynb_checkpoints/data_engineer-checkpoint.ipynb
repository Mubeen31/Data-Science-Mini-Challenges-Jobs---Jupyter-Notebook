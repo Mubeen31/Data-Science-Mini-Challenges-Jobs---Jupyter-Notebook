{
 "cells": [
  {
   "cell_type": "code",
   "execution_count": 1,
   "metadata": {},
   "outputs": [],
   "source": [
    "import pandas as pd\n",
    "import plotly.offline as pyo\n",
    "import plotly.graph_objects as go\n",
    "pd.options.plotting.backend = 'plotly'\n",
    "import string\n",
    "import nltk\n",
    "from nltk.tokenize import sent_tokenize, word_tokenize\n",
    "import collections"
   ]
  },
  {
   "cell_type": "code",
   "execution_count": 2,
   "metadata": {},
   "outputs": [
    {
     "data": {
      "text/html": [
       "<div>\n",
       "<style scoped>\n",
       "    .dataframe tbody tr th:only-of-type {\n",
       "        vertical-align: middle;\n",
       "    }\n",
       "\n",
       "    .dataframe tbody tr th {\n",
       "        vertical-align: top;\n",
       "    }\n",
       "\n",
       "    .dataframe thead th {\n",
       "        text-align: right;\n",
       "    }\n",
       "</style>\n",
       "<table border=\"1\" class=\"dataframe\">\n",
       "  <thead>\n",
       "    <tr style=\"text-align: right;\">\n",
       "      <th></th>\n",
       "      <th>jobId</th>\n",
       "      <th>employerId</th>\n",
       "      <th>employerName</th>\n",
       "      <th>employerProfileId</th>\n",
       "      <th>employerProfileName</th>\n",
       "      <th>jobTitle</th>\n",
       "      <th>locationName</th>\n",
       "      <th>minimumSalary</th>\n",
       "      <th>maximumSalary</th>\n",
       "      <th>currency</th>\n",
       "      <th>expirationDate</th>\n",
       "      <th>date</th>\n",
       "      <th>jobDescription</th>\n",
       "      <th>applications</th>\n",
       "      <th>jobUrl</th>\n",
       "      <th>fullDescription</th>\n",
       "    </tr>\n",
       "  </thead>\n",
       "  <tbody>\n",
       "    <tr>\n",
       "      <th>0</th>\n",
       "      <td>41719079</td>\n",
       "      <td>626228</td>\n",
       "      <td>Aggregator Network</td>\n",
       "      <td>NaN</td>\n",
       "      <td>NaN</td>\n",
       "      <td>Machine Learning Engineer Ref. 2148</td>\n",
       "      <td>Wembley Central</td>\n",
       "      <td>NaN</td>\n",
       "      <td>NaN</td>\n",
       "      <td>NaN</td>\n",
       "      <td>22/02/2021</td>\n",
       "      <td>11/01/2021</td>\n",
       "      <td>MI5 is responsible for protecting the UK from ...</td>\n",
       "      <td>4</td>\n",
       "      <td>https://www.reed.co.uk/jobs/machine-learning-e...</td>\n",
       "      <td>MI5 is responsible for protecting the UK from ...</td>\n",
       "    </tr>\n",
       "    <tr>\n",
       "      <th>1</th>\n",
       "      <td>41327452</td>\n",
       "      <td>626228</td>\n",
       "      <td>Partnership Jobs</td>\n",
       "      <td>NaN</td>\n",
       "      <td>NaN</td>\n",
       "      <td>Machine Learning Engineer Graduate Scheme</td>\n",
       "      <td>London</td>\n",
       "      <td>NaN</td>\n",
       "      <td>NaN</td>\n",
       "      <td>NaN</td>\n",
       "      <td>28/01/2021</td>\n",
       "      <td>05/11/2020</td>\n",
       "      <td>Would you love to explore a career in Data Sci...</td>\n",
       "      <td>68</td>\n",
       "      <td>https://www.reed.co.uk/jobs/machine-learning-e...</td>\n",
       "      <td>Would you love to explore a career in Data Sci...</td>\n",
       "    </tr>\n",
       "    <tr>\n",
       "      <th>2</th>\n",
       "      <td>41717870</td>\n",
       "      <td>626228</td>\n",
       "      <td>Aggregator Network</td>\n",
       "      <td>NaN</td>\n",
       "      <td>NaN</td>\n",
       "      <td>Consultant - Data Engineer</td>\n",
       "      <td>Belfast</td>\n",
       "      <td>NaN</td>\n",
       "      <td>NaN</td>\n",
       "      <td>NaN</td>\n",
       "      <td>22/02/2021</td>\n",
       "      <td>11/01/2021</td>\n",
       "      <td>DescriptionCME Group is the world's leading an...</td>\n",
       "      <td>1</td>\n",
       "      <td>https://www.reed.co.uk/jobs/consultant-data-en...</td>\n",
       "      <td>&lt;b&gt;Description&lt;/b&gt;&lt;br /&gt;CME Group is the world...</td>\n",
       "    </tr>\n",
       "    <tr>\n",
       "      <th>3</th>\n",
       "      <td>41744009</td>\n",
       "      <td>626228</td>\n",
       "      <td>Aggregator Network</td>\n",
       "      <td>NaN</td>\n",
       "      <td>NaN</td>\n",
       "      <td>Data Engineer - Hadoop, Spark, AWS/GCP</td>\n",
       "      <td>London</td>\n",
       "      <td>NaN</td>\n",
       "      <td>NaN</td>\n",
       "      <td>NaN</td>\n",
       "      <td>25/02/2021</td>\n",
       "      <td>14/01/2021</td>\n",
       "      <td>We are an international consultancy that helps...</td>\n",
       "      <td>0</td>\n",
       "      <td>https://www.reed.co.uk/jobs/data-engineer-hado...</td>\n",
       "      <td>We are an international consultancy that helps...</td>\n",
       "    </tr>\n",
       "    <tr>\n",
       "      <th>4</th>\n",
       "      <td>41750674</td>\n",
       "      <td>626228</td>\n",
       "      <td>Aggregator Network</td>\n",
       "      <td>NaN</td>\n",
       "      <td>NaN</td>\n",
       "      <td>Senior Data Engineer</td>\n",
       "      <td>London</td>\n",
       "      <td>NaN</td>\n",
       "      <td>NaN</td>\n",
       "      <td>NaN</td>\n",
       "      <td>25/02/2021</td>\n",
       "      <td>14/01/2021</td>\n",
       "      <td>INCLUDE:  Managing a small technical team of 3...</td>\n",
       "      <td>0</td>\n",
       "      <td>https://www.reed.co.uk/jobs/senior-data-engine...</td>\n",
       "      <td>INCLUDE: &lt;br /&gt;&lt;ul&gt; &lt;li&gt;Managing a small techn...</td>\n",
       "    </tr>\n",
       "  </tbody>\n",
       "</table>\n",
       "</div>"
      ],
      "text/plain": [
       "      jobId  employerId        employerName  employerProfileId  \\\n",
       "0  41719079      626228  Aggregator Network                NaN   \n",
       "1  41327452      626228    Partnership Jobs                NaN   \n",
       "2  41717870      626228  Aggregator Network                NaN   \n",
       "3  41744009      626228  Aggregator Network                NaN   \n",
       "4  41750674      626228  Aggregator Network                NaN   \n",
       "\n",
       "   employerProfileName                                   jobTitle  \\\n",
       "0                  NaN        Machine Learning Engineer Ref. 2148   \n",
       "1                  NaN  Machine Learning Engineer Graduate Scheme   \n",
       "2                  NaN                 Consultant - Data Engineer   \n",
       "3                  NaN     Data Engineer - Hadoop, Spark, AWS/GCP   \n",
       "4                  NaN                       Senior Data Engineer   \n",
       "\n",
       "      locationName  minimumSalary  maximumSalary currency expirationDate  \\\n",
       "0  Wembley Central            NaN            NaN      NaN     22/02/2021   \n",
       "1           London            NaN            NaN      NaN     28/01/2021   \n",
       "2          Belfast            NaN            NaN      NaN     22/02/2021   \n",
       "3           London            NaN            NaN      NaN     25/02/2021   \n",
       "4           London            NaN            NaN      NaN     25/02/2021   \n",
       "\n",
       "         date                                     jobDescription  \\\n",
       "0  11/01/2021  MI5 is responsible for protecting the UK from ...   \n",
       "1  05/11/2020  Would you love to explore a career in Data Sci...   \n",
       "2  11/01/2021  DescriptionCME Group is the world's leading an...   \n",
       "3  14/01/2021  We are an international consultancy that helps...   \n",
       "4  14/01/2021  INCLUDE:  Managing a small technical team of 3...   \n",
       "\n",
       "   applications                                             jobUrl  \\\n",
       "0             4  https://www.reed.co.uk/jobs/machine-learning-e...   \n",
       "1            68  https://www.reed.co.uk/jobs/machine-learning-e...   \n",
       "2             1  https://www.reed.co.uk/jobs/consultant-data-en...   \n",
       "3             0  https://www.reed.co.uk/jobs/data-engineer-hado...   \n",
       "4             0  https://www.reed.co.uk/jobs/senior-data-engine...   \n",
       "\n",
       "                                     fullDescription  \n",
       "0  MI5 is responsible for protecting the UK from ...  \n",
       "1  Would you love to explore a career in Data Sci...  \n",
       "2  <b>Description</b><br />CME Group is the world...  \n",
       "3  We are an international consultancy that helps...  \n",
       "4  INCLUDE: <br /><ul> <li>Managing a small techn...  "
      ]
     },
     "execution_count": 2,
     "metadata": {},
     "output_type": "execute_result"
    }
   ],
   "source": [
    "data_engineer = pd.read_csv('data-engineer.csv')\n",
    "data_engineer.head()"
   ]
  },
  {
   "cell_type": "markdown",
   "metadata": {},
   "source": [
    "### Top 10 companies by the most received applications"
   ]
  },
  {
   "cell_type": "code",
   "execution_count": 3,
   "metadata": {},
   "outputs": [
    {
     "data": {
      "text/html": [
       "<div>\n",
       "<style scoped>\n",
       "    .dataframe tbody tr th:only-of-type {\n",
       "        vertical-align: middle;\n",
       "    }\n",
       "\n",
       "    .dataframe tbody tr th {\n",
       "        vertical-align: top;\n",
       "    }\n",
       "\n",
       "    .dataframe thead th {\n",
       "        text-align: right;\n",
       "    }\n",
       "</style>\n",
       "<table border=\"1\" class=\"dataframe\">\n",
       "  <thead>\n",
       "    <tr style=\"text-align: right;\">\n",
       "      <th></th>\n",
       "      <th>employerName</th>\n",
       "      <th>applications</th>\n",
       "    </tr>\n",
       "  </thead>\n",
       "  <tbody>\n",
       "    <tr>\n",
       "      <th>0</th>\n",
       "      <td>Harnham</td>\n",
       "      <td>705</td>\n",
       "    </tr>\n",
       "    <tr>\n",
       "      <th>1</th>\n",
       "      <td>Anson McCade Ltd - IT and Finance Recruitment</td>\n",
       "      <td>235</td>\n",
       "    </tr>\n",
       "    <tr>\n",
       "      <th>2</th>\n",
       "      <td>Understanding Recruitment</td>\n",
       "      <td>145</td>\n",
       "    </tr>\n",
       "    <tr>\n",
       "      <th>3</th>\n",
       "      <td>X4 Group</td>\n",
       "      <td>133</td>\n",
       "    </tr>\n",
       "    <tr>\n",
       "      <th>4</th>\n",
       "      <td>Blue Pelican</td>\n",
       "      <td>109</td>\n",
       "    </tr>\n",
       "    <tr>\n",
       "      <th>5</th>\n",
       "      <td>Zest Business Group</td>\n",
       "      <td>102</td>\n",
       "    </tr>\n",
       "    <tr>\n",
       "      <th>6</th>\n",
       "      <td>Amber Resourcing</td>\n",
       "      <td>83</td>\n",
       "    </tr>\n",
       "    <tr>\n",
       "      <th>7</th>\n",
       "      <td>WhiteHat Group</td>\n",
       "      <td>80</td>\n",
       "    </tr>\n",
       "    <tr>\n",
       "      <th>8</th>\n",
       "      <td>Partnership Jobs</td>\n",
       "      <td>76</td>\n",
       "    </tr>\n",
       "    <tr>\n",
       "      <th>9</th>\n",
       "      <td>PeopleGenius</td>\n",
       "      <td>72</td>\n",
       "    </tr>\n",
       "  </tbody>\n",
       "</table>\n",
       "</div>"
      ],
      "text/plain": [
       "                                    employerName  applications\n",
       "0                                        Harnham           705\n",
       "1  Anson McCade Ltd - IT and Finance Recruitment           235\n",
       "2                      Understanding Recruitment           145\n",
       "3                                       X4 Group           133\n",
       "4                                   Blue Pelican           109\n",
       "5                            Zest Business Group           102\n",
       "6                               Amber Resourcing            83\n",
       "7                                 WhiteHat Group            80\n",
       "8                               Partnership Jobs            76\n",
       "9                                   PeopleGenius            72"
      ]
     },
     "execution_count": 3,
     "metadata": {},
     "output_type": "execute_result"
    }
   ],
   "source": [
    "data_engineer8 = data_engineer.groupby(['employerName'])['applications'].sum().sort_values(ascending = False).nlargest(n=10).reset_index()\n",
    "data_engineer8"
   ]
  },
  {
   "cell_type": "code",
   "execution_count": 4,
   "metadata": {},
   "outputs": [
    {
     "data": {
      "text/plain": [
       "80"
      ]
     },
     "execution_count": 4,
     "metadata": {},
     "output_type": "execute_result"
    }
   ],
   "source": [
    "data_engineer8[data_engineer8['employerName'] == 'WhiteHat Group']['applications'].sum()"
   ]
  },
  {
   "cell_type": "markdown",
   "metadata": {},
   "source": [
    "### Top 10 companies by the most listed jobs"
   ]
  },
  {
   "cell_type": "code",
   "execution_count": 5,
   "metadata": {},
   "outputs": [
    {
     "data": {
      "text/html": [
       "<div>\n",
       "<style scoped>\n",
       "    .dataframe tbody tr th:only-of-type {\n",
       "        vertical-align: middle;\n",
       "    }\n",
       "\n",
       "    .dataframe tbody tr th {\n",
       "        vertical-align: top;\n",
       "    }\n",
       "\n",
       "    .dataframe thead th {\n",
       "        text-align: right;\n",
       "    }\n",
       "</style>\n",
       "<table border=\"1\" class=\"dataframe\">\n",
       "  <thead>\n",
       "    <tr style=\"text-align: right;\">\n",
       "      <th></th>\n",
       "      <th>index</th>\n",
       "      <th>employerName</th>\n",
       "    </tr>\n",
       "  </thead>\n",
       "  <tbody>\n",
       "    <tr>\n",
       "      <th>0</th>\n",
       "      <td>Harnham</td>\n",
       "      <td>109</td>\n",
       "    </tr>\n",
       "    <tr>\n",
       "      <th>1</th>\n",
       "      <td>X4 Group</td>\n",
       "      <td>20</td>\n",
       "    </tr>\n",
       "    <tr>\n",
       "      <th>2</th>\n",
       "      <td>Anson McCade Ltd - IT and Finance Recruitment</td>\n",
       "      <td>20</td>\n",
       "    </tr>\n",
       "    <tr>\n",
       "      <th>3</th>\n",
       "      <td>Jefferson Frank</td>\n",
       "      <td>19</td>\n",
       "    </tr>\n",
       "    <tr>\n",
       "      <th>4</th>\n",
       "      <td>Aggregator Network</td>\n",
       "      <td>19</td>\n",
       "    </tr>\n",
       "    <tr>\n",
       "      <th>5</th>\n",
       "      <td>Amber Resourcing</td>\n",
       "      <td>8</td>\n",
       "    </tr>\n",
       "    <tr>\n",
       "      <th>6</th>\n",
       "      <td>Blue Pelican</td>\n",
       "      <td>8</td>\n",
       "    </tr>\n",
       "    <tr>\n",
       "      <th>7</th>\n",
       "      <td>Nigel Frank International</td>\n",
       "      <td>8</td>\n",
       "    </tr>\n",
       "    <tr>\n",
       "      <th>8</th>\n",
       "      <td>Michael Page Technology</td>\n",
       "      <td>8</td>\n",
       "    </tr>\n",
       "    <tr>\n",
       "      <th>9</th>\n",
       "      <td>Bond Williams</td>\n",
       "      <td>8</td>\n",
       "    </tr>\n",
       "  </tbody>\n",
       "</table>\n",
       "</div>"
      ],
      "text/plain": [
       "                                           index  employerName\n",
       "0                                        Harnham           109\n",
       "1                                       X4 Group            20\n",
       "2  Anson McCade Ltd - IT and Finance Recruitment            20\n",
       "3                               Jefferson Frank             19\n",
       "4                             Aggregator Network            19\n",
       "5                               Amber Resourcing             8\n",
       "6                                   Blue Pelican             8\n",
       "7                      Nigel Frank International             8\n",
       "8                        Michael Page Technology             8\n",
       "9                                  Bond Williams             8"
      ]
     },
     "execution_count": 5,
     "metadata": {},
     "output_type": "execute_result"
    }
   ],
   "source": [
    "data_engineer9 = data_engineer['employerName'].value_counts().sort_values(ascending = False).nlargest(n=10).reset_index()\n",
    "data_engineer9"
   ]
  },
  {
   "cell_type": "markdown",
   "metadata": {},
   "source": [
    "### The most applications received  for various job positions in companies and locations"
   ]
  },
  {
   "cell_type": "code",
   "execution_count": 6,
   "metadata": {},
   "outputs": [
    {
     "data": {
      "text/html": [
       "<div>\n",
       "<style scoped>\n",
       "    .dataframe tbody tr th:only-of-type {\n",
       "        vertical-align: middle;\n",
       "    }\n",
       "\n",
       "    .dataframe tbody tr th {\n",
       "        vertical-align: top;\n",
       "    }\n",
       "\n",
       "    .dataframe thead th {\n",
       "        text-align: right;\n",
       "    }\n",
       "</style>\n",
       "<table border=\"1\" class=\"dataframe\">\n",
       "  <thead>\n",
       "    <tr style=\"text-align: right;\">\n",
       "      <th></th>\n",
       "      <th>employerName</th>\n",
       "      <th>applications</th>\n",
       "    </tr>\n",
       "  </thead>\n",
       "  <tbody>\n",
       "    <tr>\n",
       "      <th>0</th>\n",
       "      <td>Harnham</td>\n",
       "      <td>705</td>\n",
       "    </tr>\n",
       "    <tr>\n",
       "      <th>1</th>\n",
       "      <td>Anson McCade Ltd - IT and Finance Recruitment</td>\n",
       "      <td>235</td>\n",
       "    </tr>\n",
       "    <tr>\n",
       "      <th>2</th>\n",
       "      <td>Understanding Recruitment</td>\n",
       "      <td>145</td>\n",
       "    </tr>\n",
       "    <tr>\n",
       "      <th>3</th>\n",
       "      <td>X4 Group</td>\n",
       "      <td>133</td>\n",
       "    </tr>\n",
       "    <tr>\n",
       "      <th>4</th>\n",
       "      <td>Blue Pelican</td>\n",
       "      <td>109</td>\n",
       "    </tr>\n",
       "    <tr>\n",
       "      <th>5</th>\n",
       "      <td>Zest Business Group</td>\n",
       "      <td>102</td>\n",
       "    </tr>\n",
       "    <tr>\n",
       "      <th>6</th>\n",
       "      <td>Amber Resourcing</td>\n",
       "      <td>83</td>\n",
       "    </tr>\n",
       "    <tr>\n",
       "      <th>7</th>\n",
       "      <td>WhiteHat Group</td>\n",
       "      <td>80</td>\n",
       "    </tr>\n",
       "    <tr>\n",
       "      <th>8</th>\n",
       "      <td>Partnership Jobs</td>\n",
       "      <td>76</td>\n",
       "    </tr>\n",
       "    <tr>\n",
       "      <th>9</th>\n",
       "      <td>PeopleGenius</td>\n",
       "      <td>72</td>\n",
       "    </tr>\n",
       "  </tbody>\n",
       "</table>\n",
       "</div>"
      ],
      "text/plain": [
       "                                    employerName  applications\n",
       "0                                        Harnham           705\n",
       "1  Anson McCade Ltd - IT and Finance Recruitment           235\n",
       "2                      Understanding Recruitment           145\n",
       "3                                       X4 Group           133\n",
       "4                                   Blue Pelican           109\n",
       "5                            Zest Business Group           102\n",
       "6                               Amber Resourcing            83\n",
       "7                                 WhiteHat Group            80\n",
       "8                               Partnership Jobs            76\n",
       "9                                   PeopleGenius            72"
      ]
     },
     "execution_count": 6,
     "metadata": {},
     "output_type": "execute_result"
    }
   ],
   "source": [
    "data_engineer10 = data_engineer.groupby(['employerName'])['applications'].sum().sort_values(ascending = False).nlargest(n=10).reset_index()\n",
    "data_engineer10"
   ]
  },
  {
   "cell_type": "code",
   "execution_count": 7,
   "metadata": {},
   "outputs": [
    {
     "data": {
      "text/html": [
       "<div>\n",
       "<style scoped>\n",
       "    .dataframe tbody tr th:only-of-type {\n",
       "        vertical-align: middle;\n",
       "    }\n",
       "\n",
       "    .dataframe tbody tr th {\n",
       "        vertical-align: top;\n",
       "    }\n",
       "\n",
       "    .dataframe thead th {\n",
       "        text-align: right;\n",
       "    }\n",
       "</style>\n",
       "<table border=\"1\" class=\"dataframe\">\n",
       "  <thead>\n",
       "    <tr style=\"text-align: right;\">\n",
       "      <th></th>\n",
       "      <th>locationName</th>\n",
       "      <th>applications</th>\n",
       "    </tr>\n",
       "  </thead>\n",
       "  <tbody>\n",
       "    <tr>\n",
       "      <th>0</th>\n",
       "      <td>London</td>\n",
       "      <td>2217</td>\n",
       "    </tr>\n",
       "    <tr>\n",
       "      <th>1</th>\n",
       "      <td>Manchester</td>\n",
       "      <td>193</td>\n",
       "    </tr>\n",
       "    <tr>\n",
       "      <th>2</th>\n",
       "      <td>Leeds</td>\n",
       "      <td>82</td>\n",
       "    </tr>\n",
       "    <tr>\n",
       "      <th>3</th>\n",
       "      <td>Peterborough</td>\n",
       "      <td>81</td>\n",
       "    </tr>\n",
       "    <tr>\n",
       "      <th>4</th>\n",
       "      <td>Cambridge</td>\n",
       "      <td>76</td>\n",
       "    </tr>\n",
       "    <tr>\n",
       "      <th>5</th>\n",
       "      <td>Uxbridge</td>\n",
       "      <td>62</td>\n",
       "    </tr>\n",
       "    <tr>\n",
       "      <th>6</th>\n",
       "      <td>Camden</td>\n",
       "      <td>52</td>\n",
       "    </tr>\n",
       "    <tr>\n",
       "      <th>7</th>\n",
       "      <td>Surrey</td>\n",
       "      <td>33</td>\n",
       "    </tr>\n",
       "    <tr>\n",
       "      <th>8</th>\n",
       "      <td>Reading</td>\n",
       "      <td>19</td>\n",
       "    </tr>\n",
       "    <tr>\n",
       "      <th>9</th>\n",
       "      <td>Wembley Central</td>\n",
       "      <td>18</td>\n",
       "    </tr>\n",
       "  </tbody>\n",
       "</table>\n",
       "</div>"
      ],
      "text/plain": [
       "      locationName  applications\n",
       "0           London          2217\n",
       "1       Manchester           193\n",
       "2            Leeds            82\n",
       "3     Peterborough            81\n",
       "4        Cambridge            76\n",
       "5         Uxbridge            62\n",
       "6           Camden            52\n",
       "7           Surrey            33\n",
       "8          Reading            19\n",
       "9  Wembley Central            18"
      ]
     },
     "execution_count": 7,
     "metadata": {},
     "output_type": "execute_result"
    }
   ],
   "source": [
    "data_engineer11 = data_engineer.groupby(['locationName'])['applications'].sum().sort_values(ascending = False).nlargest(n=10).reset_index()\n",
    "data_engineer11"
   ]
  },
  {
   "cell_type": "markdown",
   "metadata": {},
   "source": [
    "### Maximum average salary of top 10 companies"
   ]
  },
  {
   "cell_type": "code",
   "execution_count": 8,
   "metadata": {},
   "outputs": [
    {
     "data": {
      "text/html": [
       "<div>\n",
       "<style scoped>\n",
       "    .dataframe tbody tr th:only-of-type {\n",
       "        vertical-align: middle;\n",
       "    }\n",
       "\n",
       "    .dataframe tbody tr th {\n",
       "        vertical-align: top;\n",
       "    }\n",
       "\n",
       "    .dataframe thead th {\n",
       "        text-align: right;\n",
       "    }\n",
       "</style>\n",
       "<table border=\"1\" class=\"dataframe\">\n",
       "  <thead>\n",
       "    <tr style=\"text-align: right;\">\n",
       "      <th></th>\n",
       "      <th>employerName</th>\n",
       "      <th>maximumSalary</th>\n",
       "    </tr>\n",
       "  </thead>\n",
       "  <tbody>\n",
       "    <tr>\n",
       "      <th>0</th>\n",
       "      <td>Propel London</td>\n",
       "      <td>295000.0</td>\n",
       "    </tr>\n",
       "    <tr>\n",
       "      <th>1</th>\n",
       "      <td>MFK Recruitment</td>\n",
       "      <td>140000.0</td>\n",
       "    </tr>\n",
       "    <tr>\n",
       "      <th>2</th>\n",
       "      <td>Revere Recruitment</td>\n",
       "      <td>110000.0</td>\n",
       "    </tr>\n",
       "    <tr>\n",
       "      <th>3</th>\n",
       "      <td>Harrison Holgate</td>\n",
       "      <td>107000.0</td>\n",
       "    </tr>\n",
       "    <tr>\n",
       "      <th>4</th>\n",
       "      <td>The Candidate Ltd</td>\n",
       "      <td>90000.0</td>\n",
       "    </tr>\n",
       "    <tr>\n",
       "      <th>5</th>\n",
       "      <td>Zazu Digital</td>\n",
       "      <td>90000.0</td>\n",
       "    </tr>\n",
       "    <tr>\n",
       "      <th>6</th>\n",
       "      <td>ADLIB</td>\n",
       "      <td>85000.0</td>\n",
       "    </tr>\n",
       "    <tr>\n",
       "      <th>7</th>\n",
       "      <td>Amber Resourcing</td>\n",
       "      <td>81875.0</td>\n",
       "    </tr>\n",
       "    <tr>\n",
       "      <th>8</th>\n",
       "      <td>Birch &amp; James Associates Limited</td>\n",
       "      <td>80000.0</td>\n",
       "    </tr>\n",
       "    <tr>\n",
       "      <th>9</th>\n",
       "      <td>Jacob Ross Talent Solutions Ltd</td>\n",
       "      <td>80000.0</td>\n",
       "    </tr>\n",
       "  </tbody>\n",
       "</table>\n",
       "</div>"
      ],
      "text/plain": [
       "                       employerName  maximumSalary\n",
       "0                     Propel London       295000.0\n",
       "1                   MFK Recruitment       140000.0\n",
       "2               Revere Recruitment        110000.0\n",
       "3                  Harrison Holgate       107000.0\n",
       "4                 The Candidate Ltd        90000.0\n",
       "5                      Zazu Digital        90000.0\n",
       "6                             ADLIB        85000.0\n",
       "7                  Amber Resourcing        81875.0\n",
       "8  Birch & James Associates Limited        80000.0\n",
       "9   Jacob Ross Talent Solutions Ltd        80000.0"
      ]
     },
     "execution_count": 8,
     "metadata": {},
     "output_type": "execute_result"
    }
   ],
   "source": [
    "data_engineer12 = data_engineer.groupby(['employerName'])['maximumSalary'].mean().sort_values(ascending = False).nlargest(n=10).reset_index()\n",
    "data_engineer12"
   ]
  },
  {
   "cell_type": "markdown",
   "metadata": {},
   "source": [
    "### Which is the most skills required for a Data Analyst job\n",
    "First check the most used words in job title and download stopwords for NLP analysis"
   ]
  },
  {
   "cell_type": "code",
   "execution_count": 9,
   "metadata": {},
   "outputs": [
    {
     "name": "stdout",
     "output_type": "stream",
     "text": [
      "Requirement already satisfied: nltk in c:\\users\\ghs lab pc\\anaconda3\\lib\\site-packages (3.5)\n",
      "Requirement already satisfied: click in c:\\users\\ghs lab pc\\anaconda3\\lib\\site-packages (from nltk) (7.1.2)\n",
      "Requirement already satisfied: regex in c:\\users\\ghs lab pc\\anaconda3\\lib\\site-packages (from nltk) (2020.6.8)\n",
      "Requirement already satisfied: joblib in c:\\users\\ghs lab pc\\anaconda3\\lib\\site-packages (from nltk) (0.16.0)\n",
      "Requirement already satisfied: tqdm in c:\\users\\ghs lab pc\\anaconda3\\lib\\site-packages (from nltk) (4.47.0)\n"
     ]
    },
    {
     "name": "stderr",
     "output_type": "stream",
     "text": [
      "[nltk_data] Downloading package stopwords to C:\\Users\\GHS Lab\n",
      "[nltk_data]     PC\\AppData\\Roaming\\nltk_data...\n",
      "[nltk_data]   Package stopwords is already up-to-date!\n"
     ]
    }
   ],
   "source": [
    "! pip install nltk\n",
    "nltk.download('stopwords') \n",
    "stopwords = nltk.corpus.stopwords.words('english')"
   ]
  },
  {
   "cell_type": "markdown",
   "metadata": {},
   "source": [
    "### Set for removal words"
   ]
  },
  {
   "cell_type": "code",
   "execution_count": 10,
   "metadata": {},
   "outputs": [],
   "source": [
    "remove_words = set(stopwords + list(string.punctuation) + list(string.digits))"
   ]
  },
  {
   "cell_type": "markdown",
   "metadata": {},
   "source": [
    "### Check the most used words in job title"
   ]
  },
  {
   "cell_type": "code",
   "execution_count": 27,
   "metadata": {},
   "outputs": [],
   "source": [
    "job_title = data_engineer[data_engineer['jobTitle'] != '-1']['jobTitle'].tolist()\n",
    "list_of_words = []\n",
    "for item in job_title:\n",
    "    content = nltk.word_tokenize(item)\n",
    "    for word in content:\n",
    "        # remove unwanted words\n",
    "       if word.lower() not in remove_words and word.lower() != 'data'and word.lower() != 'analyst' and word.lower() != 'data analyst':\n",
    "            list_of_words.append(word.upper())"
   ]
  },
  {
   "cell_type": "markdown",
   "metadata": {},
   "source": [
    "### Conver list into pandas data frame"
   ]
  },
  {
   "cell_type": "code",
   "execution_count": 12,
   "metadata": {},
   "outputs": [
    {
     "data": {
      "text/html": [
       "<div>\n",
       "<style scoped>\n",
       "    .dataframe tbody tr th:only-of-type {\n",
       "        vertical-align: middle;\n",
       "    }\n",
       "\n",
       "    .dataframe tbody tr th {\n",
       "        vertical-align: top;\n",
       "    }\n",
       "\n",
       "    .dataframe thead th {\n",
       "        text-align: right;\n",
       "    }\n",
       "</style>\n",
       "<table border=\"1\" class=\"dataframe\">\n",
       "  <thead>\n",
       "    <tr style=\"text-align: right;\">\n",
       "      <th></th>\n",
       "      <th>Job Title</th>\n",
       "    </tr>\n",
       "  </thead>\n",
       "  <tbody>\n",
       "    <tr>\n",
       "      <th>0</th>\n",
       "      <td>MACHINE</td>\n",
       "    </tr>\n",
       "    <tr>\n",
       "      <th>1</th>\n",
       "      <td>LEARNING</td>\n",
       "    </tr>\n",
       "    <tr>\n",
       "      <th>2</th>\n",
       "      <td>ENGINEER</td>\n",
       "    </tr>\n",
       "    <tr>\n",
       "      <th>3</th>\n",
       "      <td>REF</td>\n",
       "    </tr>\n",
       "    <tr>\n",
       "      <th>4</th>\n",
       "      <td>2148</td>\n",
       "    </tr>\n",
       "    <tr>\n",
       "      <th>...</th>\n",
       "      <td>...</td>\n",
       "    </tr>\n",
       "    <tr>\n",
       "      <th>1190</th>\n",
       "      <td>ENGINEER</td>\n",
       "    </tr>\n",
       "    <tr>\n",
       "      <th>1191</th>\n",
       "      <td>SCIENCE</td>\n",
       "    </tr>\n",
       "    <tr>\n",
       "      <th>1192</th>\n",
       "      <td>SENIOR</td>\n",
       "    </tr>\n",
       "    <tr>\n",
       "      <th>1193</th>\n",
       "      <td>ENGINEER</td>\n",
       "    </tr>\n",
       "    <tr>\n",
       "      <th>1194</th>\n",
       "      <td>ENGINEER</td>\n",
       "    </tr>\n",
       "  </tbody>\n",
       "</table>\n",
       "<p>1195 rows × 1 columns</p>\n",
       "</div>"
      ],
      "text/plain": [
       "     Job Title\n",
       "0      MACHINE\n",
       "1     LEARNING\n",
       "2     ENGINEER\n",
       "3          REF\n",
       "4         2148\n",
       "...        ...\n",
       "1190  ENGINEER\n",
       "1191   SCIENCE\n",
       "1192    SENIOR\n",
       "1193  ENGINEER\n",
       "1194  ENGINEER\n",
       "\n",
       "[1195 rows x 1 columns]"
      ]
     },
     "execution_count": 12,
     "metadata": {},
     "output_type": "execute_result"
    }
   ],
   "source": [
    "list_of_words1 = pd.DataFrame({'Job Title': list_of_words}) \n",
    "list_of_words1"
   ]
  },
  {
   "cell_type": "markdown",
   "metadata": {},
   "source": [
    "### Check unique words in the above job title column"
   ]
  },
  {
   "cell_type": "code",
   "execution_count": 13,
   "metadata": {
    "scrolled": true
   },
   "outputs": [
    {
     "data": {
      "text/plain": [
       "array(['MACHINE', 'LEARNING', 'ENGINEER', 'REF', '2148', 'GRADUATE',\n",
       "       'SCHEME', 'CONSULTANT', 'HADOOP', 'SPARK', 'AWS/GCP', 'SENIOR',\n",
       "       'PRINCIPAL', 'BI', 'ANALYST/', 'ENGINEERING', 'MANAGER',\n",
       "       'AUGMENTED', 'REALITY', 'COMPUTER', 'VISION', 'LEAD', 'ENGINEERS',\n",
       "       'CONTRACT', 'FULLY', 'REMOTE', 'NORTHAMPTON', '£50-60K', 'HEAD',\n",
       "       'WARSAW', 'BIGDATA', 'CAMBRIDGE', 'INTERVIEWING', 'TECHNICAL',\n",
       "       'JAVA', 'VC', 'BACKED', 'BUSINESS', 'SQL', '£40,000', 'SSIS',\n",
       "       'ETL', 'SCIENTIST', 'MARTECH', 'START', 'PYTHON', 'AIRFLOW',\n",
       "       '£600', 'PD', 'MONTHS', 'IPAF', '3A/3B', 'BIG', 'GOOGLE', 'CLOUD',\n",
       "       'TECH', 'START-UP', 'AZURE', 'C', '£60K', 'DATABRICKS', 'JUNIOR',\n",
       "       'SC', 'DV', 'BPSS', 'CLEARED', '12', '£650', 'P/D', 'SCALA', 'HR',\n",
       "       'ARCHITECT', 'LONDON', 'MARKET', 'INSURANCE', 'AWS', 'DWH', 'NLP',\n",
       "       'FINTECH', 'UNICORN', '£95K', 'VOICE', 'SOFTWARE', 'CONFIGURATION',\n",
       "       'DV/SC', 'TEAM', 'NATWEST', 'GROUP', 'CAREERS', 'LONDON-', 'ASSET',\n",
       "       'MANAGEMENT', 'SYSTEMATIC', 'TRADING', 'HEDGE', 'FUND', 'MONGODB',\n",
       "       'KAFKA', 'DOCKER', 'KUBERNETES', 'SCIENCE', 'DATABASE',\n",
       "       'DEVELOPMENT', 'URGENT', 'ELASTICSEARCH', 'GCP', 'OUTSIDE', 'IR35',\n",
       "       'DEVOPS', 'REDSHIFT', 'WORK', 'AVAILABLE', 'FULL', 'STACK', 'LON',\n",
       "       'ELIGIBLE', 'SPECIALIST', 'PERMANENT', '£80-100,000', '100',\n",
       "       'HOME', 'WORKING', 'PUBLIC', 'SECTOR', 'MANCHESTER',\n",
       "       'INSTALLATION', 'FIELD', 'BASED', 'SNOWFLAKE', 'WAREHOUSE', 'CITY',\n",
       "       'SECURITY', 'SYSTEMS', 'STREAM', 'PROCESSING', 'MID', 'LEVEL',\n",
       "       'POWERBI', 'RELOCATION', 'OPPORTUNITY', 'FTC', 'PREM', 'MIGRATION',\n",
       "       'ENGINEER/DEVELOPER', 'FIXED', 'TERM', 'WEB-SCRAPING', 'X2', 'API',\n",
       "       'ONLINE', 'ENTERTAINMENT', 'RMOTE', 'OUTISIDE', 'DEVELOPER', '70K',\n",
       "       '75K', 'NEGOTIABLE', 'DAY', 'RATE', 'CHINESE-MANDARIN', 'SPEAKING',\n",
       "       'X', 'UK', 'WIDE', 'LEGAL', 'BACKGROUND', 'MANCHESTER/REMOTE',\n",
       "       'MICROSERVICES', '45.000', 'PRESTON', '£55,000', '£60-70K',\n",
       "       'EXCELLENT', 'SALARY', 'BOURNEMOUTH', 'MANAGERS', 'E-COMMERCE',\n",
       "       'ANALYTICS', 'NOTTINGHAM', 'CIRCA', 'QUANTITATIVE', 'IMBEDDED',\n",
       "       'BUSINE', 'MICROSOFT'], dtype=object)"
      ]
     },
     "execution_count": 13,
     "metadata": {},
     "output_type": "execute_result"
    }
   ],
   "source": [
    "list_of_words1['Job Title'].unique()"
   ]
  },
  {
   "cell_type": "markdown",
   "metadata": {},
   "source": [
    "### Count the top 20 most used words"
   ]
  },
  {
   "cell_type": "code",
   "execution_count": 14,
   "metadata": {},
   "outputs": [
    {
     "data": {
      "text/html": [
       "<div>\n",
       "<style scoped>\n",
       "    .dataframe tbody tr th:only-of-type {\n",
       "        vertical-align: middle;\n",
       "    }\n",
       "\n",
       "    .dataframe tbody tr th {\n",
       "        vertical-align: top;\n",
       "    }\n",
       "\n",
       "    .dataframe thead th {\n",
       "        text-align: right;\n",
       "    }\n",
       "</style>\n",
       "<table border=\"1\" class=\"dataframe\">\n",
       "  <thead>\n",
       "    <tr style=\"text-align: right;\">\n",
       "      <th></th>\n",
       "      <th>index</th>\n",
       "      <th>Job Title</th>\n",
       "    </tr>\n",
       "  </thead>\n",
       "  <tbody>\n",
       "    <tr>\n",
       "      <th>0</th>\n",
       "      <td>ENGINEER</td>\n",
       "      <td>441</td>\n",
       "    </tr>\n",
       "    <tr>\n",
       "      <th>1</th>\n",
       "      <td>SENIOR</td>\n",
       "      <td>92</td>\n",
       "    </tr>\n",
       "    <tr>\n",
       "      <th>2</th>\n",
       "      <td>LEARNING</td>\n",
       "      <td>45</td>\n",
       "    </tr>\n",
       "    <tr>\n",
       "      <th>3</th>\n",
       "      <td>MACHINE</td>\n",
       "      <td>45</td>\n",
       "    </tr>\n",
       "    <tr>\n",
       "      <th>4</th>\n",
       "      <td>LEAD</td>\n",
       "      <td>33</td>\n",
       "    </tr>\n",
       "    <tr>\n",
       "      <th>5</th>\n",
       "      <td>BI</td>\n",
       "      <td>29</td>\n",
       "    </tr>\n",
       "    <tr>\n",
       "      <th>6</th>\n",
       "      <td>AZURE</td>\n",
       "      <td>21</td>\n",
       "    </tr>\n",
       "    <tr>\n",
       "      <th>7</th>\n",
       "      <td>SQL</td>\n",
       "      <td>19</td>\n",
       "    </tr>\n",
       "    <tr>\n",
       "      <th>8</th>\n",
       "      <td>PYTHON</td>\n",
       "      <td>16</td>\n",
       "    </tr>\n",
       "    <tr>\n",
       "      <th>9</th>\n",
       "      <td>REMOTE</td>\n",
       "      <td>16</td>\n",
       "    </tr>\n",
       "    <tr>\n",
       "      <th>10</th>\n",
       "      <td>BIG</td>\n",
       "      <td>14</td>\n",
       "    </tr>\n",
       "    <tr>\n",
       "      <th>11</th>\n",
       "      <td>AWS</td>\n",
       "      <td>13</td>\n",
       "    </tr>\n",
       "    <tr>\n",
       "      <th>12</th>\n",
       "      <td>LONDON</td>\n",
       "      <td>11</td>\n",
       "    </tr>\n",
       "    <tr>\n",
       "      <th>13</th>\n",
       "      <td>JUNIOR</td>\n",
       "      <td>11</td>\n",
       "    </tr>\n",
       "    <tr>\n",
       "      <th>14</th>\n",
       "      <td>FULLY</td>\n",
       "      <td>10</td>\n",
       "    </tr>\n",
       "    <tr>\n",
       "      <th>15</th>\n",
       "      <td>COMPUTER</td>\n",
       "      <td>10</td>\n",
       "    </tr>\n",
       "    <tr>\n",
       "      <th>16</th>\n",
       "      <td>SC</td>\n",
       "      <td>10</td>\n",
       "    </tr>\n",
       "    <tr>\n",
       "      <th>17</th>\n",
       "      <td>SCIENCE</td>\n",
       "      <td>9</td>\n",
       "    </tr>\n",
       "    <tr>\n",
       "      <th>18</th>\n",
       "      <td>CLEARED</td>\n",
       "      <td>9</td>\n",
       "    </tr>\n",
       "    <tr>\n",
       "      <th>19</th>\n",
       "      <td>IR35</td>\n",
       "      <td>9</td>\n",
       "    </tr>\n",
       "  </tbody>\n",
       "</table>\n",
       "</div>"
      ],
      "text/plain": [
       "       index  Job Title\n",
       "0   ENGINEER        441\n",
       "1     SENIOR         92\n",
       "2   LEARNING         45\n",
       "3    MACHINE         45\n",
       "4       LEAD         33\n",
       "5         BI         29\n",
       "6      AZURE         21\n",
       "7        SQL         19\n",
       "8     PYTHON         16\n",
       "9     REMOTE         16\n",
       "10       BIG         14\n",
       "11       AWS         13\n",
       "12    LONDON         11\n",
       "13    JUNIOR         11\n",
       "14     FULLY         10\n",
       "15  COMPUTER         10\n",
       "16        SC         10\n",
       "17   SCIENCE          9\n",
       "18   CLEARED          9\n",
       "19      IR35          9"
      ]
     },
     "execution_count": 14,
     "metadata": {},
     "output_type": "execute_result"
    }
   ],
   "source": [
    "data_engineer13 = list_of_words1['Job Title'].value_counts().sort_values(ascending = False).nlargest(n=20).reset_index()\n",
    "data_engineer13"
   ]
  },
  {
   "cell_type": "markdown",
   "metadata": {},
   "source": [
    "### Next check the most listed skills in the main data frame job title column\n",
    "#### To extract name entity recognition from all job titles and save in a dictionary"
   ]
  },
  {
   "cell_type": "code",
   "execution_count": 15,
   "metadata": {
    "scrolled": true
   },
   "outputs": [
    {
     "name": "stdout",
     "output_type": "stream",
     "text": [
      "Collecting https://github.com/explosion/spacy-models/releases/download/en_core_web_sm-2.3.1/en_core_web_sm-2.3.1.tar.gz\n",
      "  Using cached https://github.com/explosion/spacy-models/releases/download/en_core_web_sm-2.3.1/en_core_web_sm-2.3.1.tar.gz (12.0 MB)\n",
      "Requirement already satisfied (use --upgrade to upgrade): en-core-web-sm==2.3.1 from https://github.com/explosion/spacy-models/releases/download/en_core_web_sm-2.3.1/en_core_web_sm-2.3.1.tar.gz in c:\\users\\ghs lab pc\\anaconda3\\lib\\site-packages\n",
      "Requirement already satisfied: spacy<2.4.0,>=2.3.0 in c:\\users\\ghs lab pc\\anaconda3\\lib\\site-packages (from en-core-web-sm==2.3.1) (2.3.5)\n",
      "Requirement already satisfied: setuptools in c:\\users\\ghs lab pc\\anaconda3\\lib\\site-packages (from spacy<2.4.0,>=2.3.0->en-core-web-sm==2.3.1) (49.2.0.post20200714)\n",
      "Requirement already satisfied: wasabi<1.1.0,>=0.4.0 in c:\\users\\ghs lab pc\\anaconda3\\lib\\site-packages (from spacy<2.4.0,>=2.3.0->en-core-web-sm==2.3.1) (0.8.2)\n",
      "Requirement already satisfied: srsly<1.1.0,>=1.0.2 in c:\\users\\ghs lab pc\\anaconda3\\lib\\site-packages (from spacy<2.4.0,>=2.3.0->en-core-web-sm==2.3.1) (1.0.5)\n",
      "Requirement already satisfied: thinc<7.5.0,>=7.4.1 in c:\\users\\ghs lab pc\\anaconda3\\lib\\site-packages (from spacy<2.4.0,>=2.3.0->en-core-web-sm==2.3.1) (7.4.5)\n",
      "Requirement already satisfied: requests<3.0.0,>=2.13.0 in c:\\users\\ghs lab pc\\anaconda3\\lib\\site-packages (from spacy<2.4.0,>=2.3.0->en-core-web-sm==2.3.1) (2.24.0)\n",
      "Requirement already satisfied: catalogue<1.1.0,>=0.0.7 in c:\\users\\ghs lab pc\\anaconda3\\lib\\site-packages (from spacy<2.4.0,>=2.3.0->en-core-web-sm==2.3.1) (1.0.0)\n",
      "Requirement already satisfied: numpy>=1.15.0 in c:\\users\\ghs lab pc\\anaconda3\\lib\\site-packages (from spacy<2.4.0,>=2.3.0->en-core-web-sm==2.3.1) (1.18.5)\n",
      "Requirement already satisfied: preshed<3.1.0,>=3.0.2 in c:\\users\\ghs lab pc\\anaconda3\\lib\\site-packages (from spacy<2.4.0,>=2.3.0->en-core-web-sm==2.3.1) (3.0.5)\n",
      "Requirement already satisfied: cymem<2.1.0,>=2.0.2 in c:\\users\\ghs lab pc\\anaconda3\\lib\\site-packages (from spacy<2.4.0,>=2.3.0->en-core-web-sm==2.3.1) (2.0.5)\n",
      "Requirement already satisfied: murmurhash<1.1.0,>=0.28.0 in c:\\users\\ghs lab pc\\anaconda3\\lib\\site-packages (from spacy<2.4.0,>=2.3.0->en-core-web-sm==2.3.1) (1.0.5)\n",
      "Requirement already satisfied: plac<1.2.0,>=0.9.6 in c:\\users\\ghs lab pc\\anaconda3\\lib\\site-packages (from spacy<2.4.0,>=2.3.0->en-core-web-sm==2.3.1) (1.1.3)\n",
      "Requirement already satisfied: blis<0.8.0,>=0.4.0 in c:\\users\\ghs lab pc\\anaconda3\\lib\\site-packages (from spacy<2.4.0,>=2.3.0->en-core-web-sm==2.3.1) (0.7.4)\n",
      "Requirement already satisfied: tqdm<5.0.0,>=4.38.0 in c:\\users\\ghs lab pc\\anaconda3\\lib\\site-packages (from spacy<2.4.0,>=2.3.0->en-core-web-sm==2.3.1) (4.47.0)\n",
      "Requirement already satisfied: chardet<4,>=3.0.2 in c:\\users\\ghs lab pc\\anaconda3\\lib\\site-packages (from requests<3.0.0,>=2.13.0->spacy<2.4.0,>=2.3.0->en-core-web-sm==2.3.1) (3.0.4)\n",
      "Requirement already satisfied: urllib3!=1.25.0,!=1.25.1,<1.26,>=1.21.1 in c:\\users\\ghs lab pc\\anaconda3\\lib\\site-packages (from requests<3.0.0,>=2.13.0->spacy<2.4.0,>=2.3.0->en-core-web-sm==2.3.1) (1.25.9)\n",
      "Requirement already satisfied: certifi>=2017.4.17 in c:\\users\\ghs lab pc\\anaconda3\\lib\\site-packages (from requests<3.0.0,>=2.13.0->spacy<2.4.0,>=2.3.0->en-core-web-sm==2.3.1) (2020.6.20)\n",
      "Requirement already satisfied: idna<3,>=2.5 in c:\\users\\ghs lab pc\\anaconda3\\lib\\site-packages (from requests<3.0.0,>=2.13.0->spacy<2.4.0,>=2.3.0->en-core-web-sm==2.3.1) (2.10)\n",
      "Building wheels for collected packages: en-core-web-sm\n",
      "  Building wheel for en-core-web-sm (setup.py): started\n",
      "  Building wheel for en-core-web-sm (setup.py): finished with status 'done'\n",
      "  Created wheel for en-core-web-sm: filename=en_core_web_sm-2.3.1-py3-none-any.whl size=12047114 sha256=0a81457cec01a8fa0134b68ea8da4e7fa31ec50986910fbef5f04ef4d12c6584\n",
      "  Stored in directory: c:\\users\\ghs lab pc\\appdata\\local\\pip\\cache\\wheels\\ee\\4d\\f7\\563214122be1540b5f9197b52cb3ddb9c4a8070808b22d5a84\n",
      "Successfully built en-core-web-sm\n"
     ]
    }
   ],
   "source": [
    "!pip3 install https://github.com/explosion/spacy-models/releases/download/en_core_web_sm-2.3.1/en_core_web_sm-2.3.1.tar.gz\n",
    "import spacy\n",
    "nlp = spacy.load('en_core_web_sm')\n",
    "\n",
    "name_entity_recognition_job_title = {}\n",
    "\n",
    "for item in job_title:\n",
    "    token = nlp(item)\n",
    "    for ent in token.ents:      \n",
    "        name_entity_recognition_job_title.setdefault(ent.label_ , []).append(ent.text) "
   ]
  },
  {
   "cell_type": "code",
   "execution_count": 16,
   "metadata": {},
   "outputs": [
    {
     "data": {
      "text/plain": [
       "dict_keys(['DATE', 'ORG', 'GPE', 'MONEY', 'PERSON', 'CARDINAL', 'NORP'])"
      ]
     },
     "execution_count": 16,
     "metadata": {},
     "output_type": "execute_result"
    }
   ],
   "source": [
    "name_entity_recognition_job_title.keys()"
   ]
  },
  {
   "cell_type": "code",
   "execution_count": 17,
   "metadata": {
    "scrolled": true
   },
   "outputs": [
    {
     "data": {
      "text/plain": [
       "[('BI Data Engineer', 17),\n",
       " ('SQL', 6),\n",
       " ('SQL Data', 4),\n",
       " ('Machine Learning', 4),\n",
       " ('NLP', 4),\n",
       " ('Computer Vision', 4),\n",
       " ('GCP', 4),\n",
       " ('Data Engineer - Data Science', 4),\n",
       " ('Data Engineer - London - Excellent Salary', 4),\n",
       " ('ETL', 3),\n",
       " ('Data Scientist / Machine Learning Engineer - Martech', 3),\n",
       " ('AWS Data Engineer - SC Cleared / SC Eligible', 3),\n",
       " ('Data Engineer Azure /', 3),\n",
       " ('Data Engineer - Big Data', 3),\n",
       " ('SQL Data Engineer -', 2),\n",
       " ('Data Engineer / Architect', 2),\n",
       " ('Data Engineer - London', 2),\n",
       " ('AWS Data Engineer', 2),\n",
       " ('Data Engineer - SQL', 2),\n",
       " ('Lead Configuration & Data Engineer', 2),\n",
       " ('Data Engineer / Computer Science / SQL / Database', 2),\n",
       " ('BI / Data Engineer', 2),\n",
       " ('Data Engineer', 2),\n",
       " ('Data Engineer - Legal Insurance', 2),\n",
       " ('Manchester/Remote', 2),\n",
       " ('Data Engineer Python BI', 2),\n",
       " ('Data Engineer Python', 2),\n",
       " ('Snowflake Data Engineer', 2),\n",
       " ('Data Engineer - Hadoop', 1),\n",
       " ('AWS/GCP', 1),\n",
       " ('Data Engineering', 1),\n",
       " ('Senior & Lead Data Engineers', 1),\n",
       " ('Contract Data Engineers  ', 1),\n",
       " ('Data Engineering Lead', 1),\n",
       " ('Data Engineering - Warsaw', 1),\n",
       " ('Data Engineering Consultant', 1),\n",
       " ('Data Engineer - Python & Airflow', 1),\n",
       " ('Graduate / Junior Data Engineer', 1),\n",
       " ('SC', 1),\n",
       " ('DV', 1),\n",
       " ('Data Engineer - DV/SC Cleared', 1),\n",
       " ('Data Engineer Team Lead', 1),\n",
       " ('NatWest Group', 1),\n",
       " ('Data Engineer - London- Asset Management', 1),\n",
       " ('Data Engineer - Hedge Fund - London- Python', 1),\n",
       " ('DevOps Engineer - Data Engineering', 1),\n",
       " ('Python', 1),\n",
       " ('AWS', 1),\n",
       " ('RedShift', 1),\n",
       " ('SC Cleared Data Engineer', 1),\n",
       " ('Python / Data Engineer', 1),\n",
       " ('BI LONDON', 1),\n",
       " ('Data Engineer / Installation Engineer - Field', 1),\n",
       " ('Snowflake Data Engineer / Data Warehouse Engineer - City', 1),\n",
       " ('Security Systems & Data Engineer', 1),\n",
       " ('Data Engineer / ETL Developer', 1),\n",
       " ('Data Engineer / ETL Developer - Negotiable Day', 1),\n",
       " ('UK Wide', 1),\n",
       " ('GCP Data Engineer - Fully Remote', 1),\n",
       " ('Software Data Engineer - Python', 1),\n",
       " ('Java, Microservices', 1),\n",
       " ('Data Engineer BI', 1),\n",
       " ('Fintech Data Engineer', 1),\n",
       " ('BIG Data', 1),\n",
       " ('Insurance', 1),\n",
       " ('Big Data', 1),\n",
       " ('Software & Data Engineer Fully', 1),\n",
       " ('AWS  E-Commerce', 1),\n",
       " ('Data Engineer Azure', 1),\n",
       " ('Nottingham', 1),\n",
       " ('Circa', 1),\n",
       " ('SC Cleared', 1)]"
      ]
     },
     "execution_count": 17,
     "metadata": {},
     "output_type": "execute_result"
    }
   ],
   "source": [
    "collections.Counter(name_entity_recognition_job_title['ORG']).most_common()"
   ]
  },
  {
   "cell_type": "code",
   "execution_count": 18,
   "metadata": {},
   "outputs": [
    {
     "data": {
      "text/plain": [
       "[('Lead Data Engineer', 18),\n",
       " ('Lead Data Engineer (', 4),\n",
       " ('Scala Data Engineer', 3),\n",
       " ('BPSS Cleared', 1),\n",
       " ('Scala Data', 1),\n",
       " ('Kafka', 1),\n",
       " ('Docker', 1),\n",
       " ('BI LON', 1),\n",
       " ('Preston', 1),\n",
       " ('Kafka Hadoop', 1)]"
      ]
     },
     "execution_count": 18,
     "metadata": {},
     "output_type": "execute_result"
    }
   ],
   "source": [
    "collections.Counter(name_entity_recognition_job_title['PERSON']).most_common()"
   ]
  },
  {
   "cell_type": "code",
   "execution_count": 19,
   "metadata": {},
   "outputs": [
    {
     "data": {
      "text/plain": [
       "[('2148', 1), ('70k - 75k', 1), ('60-70k', 1)]"
      ]
     },
     "execution_count": 19,
     "metadata": {},
     "output_type": "execute_result"
    }
   ],
   "source": [
    "collections.Counter(name_entity_recognition_job_title['DATE']).most_common(10)"
   ]
  },
  {
   "cell_type": "code",
   "execution_count": 20,
   "metadata": {},
   "outputs": [
    {
     "data": {
      "text/plain": [
       "[('Chinese', 1)]"
      ]
     },
     "execution_count": 20,
     "metadata": {},
     "output_type": "execute_result"
    }
   ],
   "source": [
    "collections.Counter(name_entity_recognition_job_title['NORP']).most_common(10)"
   ]
  },
  {
   "cell_type": "code",
   "execution_count": 21,
   "metadata": {},
   "outputs": [
    {
     "data": {
      "text/plain": [
       "[('100', 4), ('2', 1)]"
      ]
     },
     "execution_count": 21,
     "metadata": {},
     "output_type": "execute_result"
    }
   ],
   "source": [
    "collections.Counter(name_entity_recognition_job_title['CARDINAL']).most_common(10)"
   ]
  },
  {
   "cell_type": "markdown",
   "metadata": {},
   "source": [
    "### By viewing above, there are some useful technology skills are mentioned in the job title column\n",
    "Create list of these skills"
   ]
  },
  {
   "cell_type": "code",
   "execution_count": 22,
   "metadata": {},
   "outputs": [],
   "source": [
    "list_of_useful_words = ['BI', 'AWS', 'SPARK', 'SQL', 'AZURE', 'PYTHON', 'MICROSOFT']"
   ]
  },
  {
   "cell_type": "markdown",
   "metadata": {},
   "source": [
    "### Next I check how many times the above skills are mentioned in the job title colum"
   ]
  },
  {
   "cell_type": "code",
   "execution_count": 23,
   "metadata": {},
   "outputs": [],
   "source": [
    "count_skills_word = []\n",
    "for word in list_of_words:\n",
    "    if word in list_of_useful_words:\n",
    "        count_skills_word.append(word)"
   ]
  },
  {
   "cell_type": "code",
   "execution_count": 24,
   "metadata": {
    "scrolled": true
   },
   "outputs": [
    {
     "data": {
      "text/html": [
       "<div>\n",
       "<style scoped>\n",
       "    .dataframe tbody tr th:only-of-type {\n",
       "        vertical-align: middle;\n",
       "    }\n",
       "\n",
       "    .dataframe tbody tr th {\n",
       "        vertical-align: top;\n",
       "    }\n",
       "\n",
       "    .dataframe thead th {\n",
       "        text-align: right;\n",
       "    }\n",
       "</style>\n",
       "<table border=\"1\" class=\"dataframe\">\n",
       "  <thead>\n",
       "    <tr style=\"text-align: right;\">\n",
       "      <th></th>\n",
       "      <th>Job Title</th>\n",
       "    </tr>\n",
       "  </thead>\n",
       "  <tbody>\n",
       "    <tr>\n",
       "      <th>0</th>\n",
       "      <td>SPARK</td>\n",
       "    </tr>\n",
       "    <tr>\n",
       "      <th>1</th>\n",
       "      <td>BI</td>\n",
       "    </tr>\n",
       "    <tr>\n",
       "      <th>2</th>\n",
       "      <td>BI</td>\n",
       "    </tr>\n",
       "    <tr>\n",
       "      <th>3</th>\n",
       "      <td>SQL</td>\n",
       "    </tr>\n",
       "    <tr>\n",
       "      <th>4</th>\n",
       "      <td>SQL</td>\n",
       "    </tr>\n",
       "    <tr>\n",
       "      <th>...</th>\n",
       "      <td>...</td>\n",
       "    </tr>\n",
       "    <tr>\n",
       "      <th>96</th>\n",
       "      <td>AZURE</td>\n",
       "    </tr>\n",
       "    <tr>\n",
       "      <th>97</th>\n",
       "      <td>AZURE</td>\n",
       "    </tr>\n",
       "    <tr>\n",
       "      <th>98</th>\n",
       "      <td>AWS</td>\n",
       "    </tr>\n",
       "    <tr>\n",
       "      <th>99</th>\n",
       "      <td>AZURE</td>\n",
       "    </tr>\n",
       "    <tr>\n",
       "      <th>100</th>\n",
       "      <td>AZURE</td>\n",
       "    </tr>\n",
       "  </tbody>\n",
       "</table>\n",
       "<p>101 rows × 1 columns</p>\n",
       "</div>"
      ],
      "text/plain": [
       "    Job Title\n",
       "0       SPARK\n",
       "1          BI\n",
       "2          BI\n",
       "3         SQL\n",
       "4         SQL\n",
       "..        ...\n",
       "96      AZURE\n",
       "97      AZURE\n",
       "98        AWS\n",
       "99      AZURE\n",
       "100     AZURE\n",
       "\n",
       "[101 rows x 1 columns]"
      ]
     },
     "execution_count": 24,
     "metadata": {},
     "output_type": "execute_result"
    }
   ],
   "source": [
    "list_of_words2 = pd.DataFrame({'Job Title': count_skills_word}) \n",
    "list_of_words2"
   ]
  },
  {
   "cell_type": "code",
   "execution_count": 25,
   "metadata": {},
   "outputs": [
    {
     "data": {
      "text/plain": [
       "array(['SPARK', 'BI', 'SQL', 'PYTHON', 'AZURE', 'AWS', 'MICROSOFT'],\n",
       "      dtype=object)"
      ]
     },
     "execution_count": 25,
     "metadata": {},
     "output_type": "execute_result"
    }
   ],
   "source": [
    "list_of_words2['Job Title'].unique()"
   ]
  },
  {
   "cell_type": "code",
   "execution_count": 26,
   "metadata": {},
   "outputs": [
    {
     "data": {
      "text/html": [
       "<div>\n",
       "<style scoped>\n",
       "    .dataframe tbody tr th:only-of-type {\n",
       "        vertical-align: middle;\n",
       "    }\n",
       "\n",
       "    .dataframe tbody tr th {\n",
       "        vertical-align: top;\n",
       "    }\n",
       "\n",
       "    .dataframe thead th {\n",
       "        text-align: right;\n",
       "    }\n",
       "</style>\n",
       "<table border=\"1\" class=\"dataframe\">\n",
       "  <thead>\n",
       "    <tr style=\"text-align: right;\">\n",
       "      <th></th>\n",
       "      <th>index</th>\n",
       "      <th>Job Title</th>\n",
       "    </tr>\n",
       "  </thead>\n",
       "  <tbody>\n",
       "    <tr>\n",
       "      <th>0</th>\n",
       "      <td>BI</td>\n",
       "      <td>29</td>\n",
       "    </tr>\n",
       "    <tr>\n",
       "      <th>1</th>\n",
       "      <td>AZURE</td>\n",
       "      <td>21</td>\n",
       "    </tr>\n",
       "    <tr>\n",
       "      <th>2</th>\n",
       "      <td>SQL</td>\n",
       "      <td>19</td>\n",
       "    </tr>\n",
       "    <tr>\n",
       "      <th>3</th>\n",
       "      <td>PYTHON</td>\n",
       "      <td>16</td>\n",
       "    </tr>\n",
       "    <tr>\n",
       "      <th>4</th>\n",
       "      <td>AWS</td>\n",
       "      <td>13</td>\n",
       "    </tr>\n",
       "    <tr>\n",
       "      <th>5</th>\n",
       "      <td>SPARK</td>\n",
       "      <td>2</td>\n",
       "    </tr>\n",
       "    <tr>\n",
       "      <th>6</th>\n",
       "      <td>MICROSOFT</td>\n",
       "      <td>1</td>\n",
       "    </tr>\n",
       "  </tbody>\n",
       "</table>\n",
       "</div>"
      ],
      "text/plain": [
       "       index  Job Title\n",
       "0         BI         29\n",
       "1      AZURE         21\n",
       "2        SQL         19\n",
       "3     PYTHON         16\n",
       "4        AWS         13\n",
       "5      SPARK          2\n",
       "6  MICROSOFT          1"
      ]
     },
     "execution_count": 26,
     "metadata": {},
     "output_type": "execute_result"
    }
   ],
   "source": [
    "data_analyst14 = list_of_words2['Job Title'].value_counts().sort_values(ascending = False).nlargest(n=20).reset_index()\n",
    "data_analyst14"
   ]
  },
  {
   "cell_type": "code",
   "execution_count": null,
   "metadata": {},
   "outputs": [],
   "source": []
  }
 ],
 "metadata": {
  "kernelspec": {
   "display_name": "Python 3",
   "language": "python",
   "name": "python3"
  },
  "language_info": {
   "codemirror_mode": {
    "name": "ipython",
    "version": 3
   },
   "file_extension": ".py",
   "mimetype": "text/x-python",
   "name": "python",
   "nbconvert_exporter": "python",
   "pygments_lexer": "ipython3",
   "version": "3.8.3"
  }
 },
 "nbformat": 4,
 "nbformat_minor": 4
}
